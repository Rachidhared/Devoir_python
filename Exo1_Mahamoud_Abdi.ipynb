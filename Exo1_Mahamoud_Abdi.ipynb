{
  "nbformat": 4,
  "nbformat_minor": 0,
  "metadata": {
    "colab": {
      "provenance": []
    },
    "kernelspec": {
      "name": "python3",
      "display_name": "Python 3"
    },
    "language_info": {
      "name": "python"
    }
  },
  "cells": [
    {
      "cell_type": "code",
      "execution_count": 35,
      "metadata": {
        "id": "a6ycrgTbF0Rx",
        "colab": {
          "base_uri": "https://localhost:8080/"
        },
        "outputId": "409f69f6-25f9-4592-d32d-280e231ce888"
      },
      "outputs": [
        {
          "output_type": "stream",
          "name": "stdout",
          "text": [
            "Veuillez saisir le nombre de colonne du plateau :5\n",
            "Veuillez saisir le nombre de ligne du plateau : 5\n",
            "Veuillez saisir le ligne que tu veux cache votre tresor5\n",
            "Veuillez saisir la colonne que tu veux cache votre tresor5\n",
            "le tresor a ete cache avec succes \n",
            "Deviner la ligne ou se cache le tresor5\n",
            "Deviner la colonne ou se cache le tresor5\n",
            "Felicitation vous avez trouve le tresor\n",
            "* * * * *\n",
            "* * * * *\n",
            "* * * * *\n",
            "* * * * *\n",
            "* * * * T\n"
          ]
        }
      ],
      "source": [
        "m=int(input(\"Veuillez saisir le nombre de colonne du plateau :\" ))\n",
        "n=int(input(\"Veuillez saisir le nombre de ligne du plateau : \"))\n",
        "plateau = [[ '*'for _ in range(m)] for _ in range(n)]\n",
        "while True:\n",
        "  try:\n",
        "    ligneTresor=int(input(\"Veuillez saisir le ligne que tu veux cache votre tresor\"))\n",
        "    colonneTresor=int(input(\"Veuillez saisir la colonne que tu veux cache votre tresor\"))\n",
        "    if 0<ligneTresor<=n and 0<colonneTresor<=m:\n",
        "      print(\"le tresor a ete cache avec succes \")\n",
        "      break\n",
        "    else:\n",
        "      print(\"Veuillez saisir un coordonne correct\")\n",
        "\n",
        "  except SyntaxError:\n",
        "    print(\"Veuillez saisir un nombre entier\")\n",
        "  except ValueError:\n",
        "    print(\"Veuillez saisir un nombre\")\n",
        "while True:\n",
        "  try:\n",
        "    DevineLigne=int(input(\"Deviner la ligne ou se cache le tresor\"))\n",
        "    DevineColonne=int(input(\"Deviner la colonne ou se cache le tresor\"))\n",
        "    if (ligneTresor,colonneTresor)==(DevineLigne,DevineColonne):\n",
        "      print(\"Felicitation vous avez trouve le tresor\")\n",
        "      break\n",
        "    else :\n",
        "      print(\"Vous avez echoue, Veuillez recherche le tresor\")\n",
        "  except :\n",
        "    print(\"Veuillez saisir un nombre entier \")\n",
        "while True :\n",
        "\n",
        "plateau[ligneTresor -1][colonneTresor-1]='T'\n",
        "\n",
        "for ligne in plateau:\n",
        "  print(\" \".join(ligne))\n"
      ]
    },
    {
      "cell_type": "markdown",
      "source": [
        "**Concevez votre propre jeu de chasse au trésor**"
      ],
      "metadata": {
        "id": "m-tkf0FbF9_2"
      }
    },
    {
      "cell_type": "code",
      "source": [
        "# Demander la taille du plateau\n",
        "n = int(input(\"Entrez le nombre de lignes du plateau : \"))\n",
        "m = int(input(\"Entrez le nombre de colonnes du plateau : \"))\n",
        "\n",
        "# Initialisation du plateau avec des espaces vides représentés par '*'\n",
        "plateau = [['*' for _ in range(m)] for _ in range(n)]\n",
        "\n"
      ],
      "metadata": {
        "id": "zRsXK-8sGLe1",
        "colab": {
          "base_uri": "https://localhost:8080/"
        },
        "outputId": "31d64213-41b8-434f-ed61-ee136a3eaf63"
      },
      "execution_count": 4,
      "outputs": [
        {
          "name": "stdout",
          "output_type": "stream",
          "text": [
            "Entrez le nombre de lignes du plateau : 5\n",
            "Entrez le nombre de colonnes du plateau : 5\n"
          ]
        }
      ]
    },
    {
      "cell_type": "code",
      "source": [
        "d\n",
        "\n",
        "\n"
      ],
      "metadata": {
        "id": "mLc4Qfi57Fg_"
      },
      "execution_count": null,
      "outputs": []
    }
  ]
}