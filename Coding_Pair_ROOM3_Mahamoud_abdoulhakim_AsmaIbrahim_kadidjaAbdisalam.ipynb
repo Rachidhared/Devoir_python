{
  "nbformat": 4,
  "nbformat_minor": 0,
  "metadata": {
    "colab": {
      "provenance": [],
      "authorship_tag": "ABX9TyOxBpMw2DCEXBbbrYrpz/BH",
      "include_colab_link": true
    },
    "kernelspec": {
      "name": "python3",
      "display_name": "Python 3"
    },
    "language_info": {
      "name": "python"
    }
  },
  "cells": [
    {
      "cell_type": "markdown",
      "metadata": {
        "id": "view-in-github",
        "colab_type": "text"
      },
      "source": [
        "<a href=\"https://colab.research.google.com/github/Rachidhared/Devoir_python/blob/main/Coding_Pair_ROOM3_Mahamoud_abdoulhakim_AsmaIbrahim_kadidjaAbdisalam.ipynb\" target=\"_parent\"><img src=\"https://colab.research.google.com/assets/colab-badge.svg\" alt=\"Open In Colab\"/></a>"
      ]
    },
    {
      "cell_type": "code",
      "execution_count": null,
      "metadata": {
        "id": "_TiTQWO7Km6X"
      },
      "outputs": [],
      "source": []
    },
    {
      "cell_type": "markdown",
      "source": [
        "Exercice\n"
      ],
      "metadata": {
        "id": "jcaaUKd-LNGH"
      }
    },
    {
      "cell_type": "code",
      "source": [
        "import math\n",
        "class Cercle:\n",
        "\n",
        "  def _init_(self,rayon):\n",
        "    self.rayon=rayon\n",
        "\n",
        "  def Perimetre(rayon):\n",
        "    per=2*math.pi*rayon\n",
        "    return per\n",
        "\n",
        "  def Aire(rayon):\n",
        "    Air=math.pi*(rayon*rayon)\n",
        "    return Air\n",
        "\n",
        "r=int(input(\"Veuillez saisir le rayon de votre cercle \"))\n",
        "\n",
        "cercle1=Cercle\n",
        "aire1=Cercle\n",
        "print(\"le perimetre de votre cercle est : \",cercle.Perimetre(r))\n",
        "print(\"L'aire de votre cercle est : \",aire1.Aire(r))\n",
        "\n"
      ],
      "metadata": {
        "id": "joE7q931LP53"
      },
      "execution_count": null,
      "outputs": []
    },
    {
      "cell_type": "markdown",
      "source": [
        "Exercice 2\n"
      ],
      "metadata": {
        "id": "CIniclcZQwGF"
      }
    },
    {
      "cell_type": "code",
      "source": [
        "class Calculatrice:\n",
        "  def _init_(self):\n",
        "    pass\n",
        "\n",
        "  def Addition( a , b):\n",
        "    return a+b\n",
        "  def Multiplication(a,b):\n",
        "    return a*b\n",
        "  def Soustraction(a,b):\n",
        "    return a-b\n",
        "\n",
        "  def Division(a,b):\n",
        "    if b != 0:\n",
        "      div=a/b\n",
        "\n",
        "    else :\n",
        "\n",
        "      print(\"Veuillez saisir un nombre different de 0\")\n",
        "    return div\n",
        "\n",
        "A=int(input(\"Veuillez saisir un nombre A :\"))\n",
        "B=int(input(\"Veuillez saisir un nombre B :\"))\n",
        "\n",
        "Add1=Calculatrice\n",
        "Sous1=Calculatrice\n",
        "Mul1=Calculatrice\n",
        "Div1=Calculatrice\n",
        "print(\"Votre addition est \",Add1.Addition(A,B))\n",
        "print(\"Soustraction : \",Sous1.Soustraction(A,B))\n",
        "print(\"Division : \",Div1.Division(A,B))\n",
        "print(\"Multiplication :\",Mul1.Multiplication(A,B))"
      ],
      "metadata": {
        "id": "T8_XnIo8Qzod"
      },
      "execution_count": null,
      "outputs": []
    },
    {
      "cell_type": "markdown",
      "source": [
        "Exercice 3\n"
      ],
      "metadata": {
        "id": "QQYBCfAyW9O6"
      }
    },
    {
      "cell_type": "code",
      "source": [
        "from datetime import datetime\n",
        "class Personnelle:\n",
        "  def _init_(self,Nom,Pays,Date_naissance):\n",
        "    self.Nom=Nom\n",
        "    self.Pays=Pays\n",
        "    self.date_naissance=datetime.strptime(Date_naissanceate_naissance,\"%Y-%m-%d\")\n",
        "\n",
        "  def AgePersonne(date_actuelle,Date_naissance):\n",
        "    age= date_actuelle - Date_naissance\n",
        "    return age\n",
        "Per1=Personnelle\n",
        "print(\"L'age de la personne est \",Per1.AgePersonne(2024,1997))\n",
        "\n"
      ],
      "metadata": {
        "colab": {
          "base_uri": "https://localhost:8080/"
        },
        "id": "e1d9X4-eXAEK",
        "outputId": "d9c3515f-82f9-45ff-d92a-3b9888d904fd"
      },
      "execution_count": 100,
      "outputs": [
        {
          "output_type": "stream",
          "name": "stdout",
          "text": [
            "L'age de la personne  27\n"
          ]
        }
      ]
    },
    {
      "cell_type": "markdown",
      "source": [
        "Exercice 4 sql\n"
      ],
      "metadata": {
        "id": "FHYOwGWgcJ6f"
      }
    },
    {
      "cell_type": "code",
      "source": [
        "from sqlite3.dbapi2 import Cursor\n",
        "import sqlite3\n",
        "#Creation de base de donne\n",
        "conn=sqlite3.connect(\"Ecoless.db\")\n",
        "#Creation d'un curseur pour execute\n",
        "Cursor=conn.cursor()\n",
        " # Creation de table eleve\n",
        "Cursor.execute('''\n",
        "    Create TABLE IF NOT EXISTS eleves (\n",
        "      id Integer primary key autoincrement,\n",
        "      Nom Text not null,\n",
        "      Prenom Text,\n",
        "      Age Integer\n",
        "    )\n",
        "''')\n",
        "# insertion des données\n",
        "\n",
        "Cursor.execute(\"Insert Into eleves (Nom,Prenom,Age) Values (?,?,?)\", (\"ASMA\",\"Abdi\",35)\n",
        ")\n",
        "Cursor.execute(\"Insert Into eleves (Nom,Prenom,Age) Values (?,?,?)\", (\"Mahamoud\",\"Abdi\",35)\n",
        ")\n",
        "Cursor.execute(\"Insert Into eleves (Nom,Prenom,Age) Values (?,?,?)\", (\"Kadidga\",\"Abdi\",22)\n",
        ")\n",
        "Cursor.execute(\"Select * from eleves\")\n",
        "ligne=Cursor.fetchall()\n",
        "for ligne1 in ligne:\n",
        "  print(ligne1)\n",
        "\n",
        "\n",
        "\n",
        "\n",
        "\n",
        "\n",
        "\n",
        "\n"
      ],
      "metadata": {
        "colab": {
          "base_uri": "https://localhost:8080/"
        },
        "id": "WAKLbz09cNYE",
        "outputId": "245f78f0-08e5-4f3d-9355-de90b67deb2c"
      },
      "execution_count": 83,
      "outputs": [
        {
          "output_type": "stream",
          "name": "stdout",
          "text": [
            "(1, 'ASMA', 'Abdi', 35)\n",
            "(2, 'Mahamoud', 'Abdi', 35)\n",
            "(3, 'Kadidga', 'Abdi', 22)\n"
          ]
        }
      ]
    },
    {
      "cell_type": "code",
      "source": [
        "Cursor.execute('''update eleves set Age=20  ''')\n",
        "Cursor.execute(\"Select * from eleves\")\n",
        "ligne=Cursor.fetchall()\n",
        "for ligne1 in ligne:\n",
        "  print(ligne1)"
      ],
      "metadata": {
        "colab": {
          "base_uri": "https://localhost:8080/"
        },
        "id": "x0A_LZAAmMkM",
        "outputId": "34655abe-caf6-43fa-b36e-310350d0510c"
      },
      "execution_count": 80,
      "outputs": [
        {
          "output_type": "stream",
          "name": "stdout",
          "text": [
            "(1, 'ASMA', 'Abdi', 20)\n"
          ]
        }
      ]
    }
  ]
}