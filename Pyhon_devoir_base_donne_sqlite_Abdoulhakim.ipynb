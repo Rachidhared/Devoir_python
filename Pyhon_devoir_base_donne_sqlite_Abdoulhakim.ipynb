{
  "nbformat": 4,
  "nbformat_minor": 0,
  "metadata": {
    "colab": {
      "provenance": []
    },
    "kernelspec": {
      "name": "python3",
      "display_name": "Python 3"
    },
    "language_info": {
      "name": "python"
    }
  },
  "cells": [
    {
      "cell_type": "markdown",
      "source": [
        "## **Devoir sur le Navigateur SQLite : Bibliothèque Personnelle de Livres**"
      ],
      "metadata": {
        "id": "Ktm8heGEuP6t"
      }
    },
    {
      "cell_type": "markdown",
      "source": [
        "**Sur l'application SQLite, j'ai créé la base de données \"PersonalLibrary.db\" avec ses tables et j'ai effectué différents question. En utilisant Google Colab, je vais vous montrer les requêtes en Python.**"
      ],
      "metadata": {
        "id": "Iy4V4UysuVT0"
      }
    },
    {
      "cell_type": "markdown",
      "source": [
        "**1. Création de la base de données :**"
      ],
      "metadata": {
        "id": "yaxMo90ducEN"
      }
    },
    {
      "cell_type": "code",
      "source": [
        "import sqlite3\n",
        "\n",
        "# 1. Création de la base de données\n",
        "conn = sqlite3.connect('PersonalLibrary.db')\n",
        "cursor = conn.cursor()"
      ],
      "metadata": {
        "id": "rTCBaLCYudDT"
      },
      "execution_count": 1,
      "outputs": []
    },
    {
      "cell_type": "markdown",
      "source": [
        "**2. Conception de la table :**"
      ],
      "metadata": {
        "id": "D4lAW5FLuiQ6"
      }
    },
    {
      "cell_type": "code",
      "source": [
        "cursor.execute('''\n",
        "CREATE TABLE IF NOT EXISTS Livres (\n",
        "    BookID INTEGER PRIMARY KEY AUTOINCREMENT,\n",
        "    Titre TEXT NOT NULL,\n",
        "    Auteur TEXT NOT NULL,\n",
        "    AnnéePublication INTEGER NOT NULL,\n",
        "    Genre TEXT NOT NULL\n",
        ")\n",
        "''')"
      ],
      "metadata": {
        "colab": {
          "base_uri": "https://localhost:8080/"
        },
        "id": "tlkWEI98ui3B",
        "outputId": "0be09c27-5912-4394-9356-1f32b87b692f"
      },
      "execution_count": 2,
      "outputs": [
        {
          "output_type": "execute_result",
          "data": {
            "text/plain": [
              "<sqlite3.Cursor at 0x79563da6a640>"
            ]
          },
          "metadata": {},
          "execution_count": 2
        }
      ]
    },
    {
      "cell_type": "markdown",
      "source": [
        "**3. Insertion des données :**"
      ],
      "metadata": {
        "id": "II8MMjN5upcu"
      }
    },
    {
      "cell_type": "code",
      "source": [
        "livres = [\n",
        "    ('Le portrait du nouvel être', ' Abdourahman Barkat God', 2023, 'non-fiction'),\n",
        "    ('Le Réveil de Djibouti, 1968-1977', ' Rémi Leroux', 1998, 'non-fiction'),\n",
        "    ('Plus rien ne pourra me blesser', 'David Goggins ', 2023, 'non-fiction'),\n",
        "    ('Père riche, père pauvre', ' Robert T. Kiyosaki', 2017, 'non-fiction ')\n",
        "]\n",
        "\n",
        "cursor.executemany('''\n",
        "INSERT INTO Livres (Titre, Auteur, AnnéePublication, Genre)\n",
        "VALUES (?, ?, ?, ?)\n",
        "''', livres)"
      ],
      "metadata": {
        "colab": {
          "base_uri": "https://localhost:8080/"
        },
        "id": "oDCOEPgfuqAt",
        "outputId": "cc7d2a86-5116-4f09-bc57-17f18815816f"
      },
      "execution_count": 3,
      "outputs": [
        {
          "output_type": "execute_result",
          "data": {
            "text/plain": [
              "<sqlite3.Cursor at 0x79563da6a640>"
            ]
          },
          "metadata": {},
          "execution_count": 3
        }
      ]
    },
    {
      "cell_type": "markdown",
      "source": [
        "**4. Récupération des données :**"
      ],
      "metadata": {
        "id": "xkn3q3bTuyjH"
      }
    },
    {
      "cell_type": "code",
      "source": [
        "# a. Lister tous les livres\n",
        "print(\"Tous les livres :\")\n",
        "for row in cursor.execute('SELECT * FROM Livres'):\n",
        "    print(row)"
      ],
      "metadata": {
        "colab": {
          "base_uri": "https://localhost:8080/"
        },
        "id": "mQKs1bzYuy4z",
        "outputId": "15c0e70e-fd47-453d-ded7-40f183cd757a"
      },
      "execution_count": 4,
      "outputs": [
        {
          "output_type": "stream",
          "name": "stdout",
          "text": [
            "Tous les livres :\n",
            "(1, 'Le portrait du nouvel être', ' Abdourahman Barkat God', 2023, 'non-fiction')\n",
            "(2, 'Le Réveil de Djibouti, 1968-1977', ' Rémi Leroux', 1998, 'non-fiction')\n",
            "(3, 'Plus rien ne pourra me blesser', 'David Goggins ', 2023, 'non-fiction')\n",
            "(4, 'Père riche, père pauvre', ' Robert T. Kiyosaki', 2017, 'non-fiction ')\n"
          ]
        }
      ]
    },
    {
      "cell_type": "code",
      "source": [
        "#b. Trouver tous les livres publiés après l'année 2000\n",
        "print(\"\\nLivres publiés après 2000 :\")\n",
        "for row in cursor.execute('SELECT * FROM Livres WHERE AnnéePublication > 2000'):\n",
        "    print(row)"
      ],
      "metadata": {
        "colab": {
          "base_uri": "https://localhost:8080/"
        },
        "id": "SsRs6e51u8St",
        "outputId": "615ef4b5-9db1-437c-ab48-a5beff9a9b10"
      },
      "execution_count": 5,
      "outputs": [
        {
          "output_type": "stream",
          "name": "stdout",
          "text": [
            "\n",
            "Livres publiés après 2000 :\n",
            "(1, 'Le portrait du nouvel être', ' Abdourahman Barkat God', 2023, 'non-fiction')\n",
            "(3, 'Plus rien ne pourra me blesser', 'David Goggins ', 2023, 'non-fiction')\n",
            "(4, 'Père riche, père pauvre', ' Robert T. Kiyosaki', 2017, 'non-fiction ')\n"
          ]
        }
      ]
    },
    {
      "cell_type": "code",
      "source": [
        "# c. Trouver tous les livres du genre \"non-fiction\"\n",
        "print(\"\\nLivres du genre 'non-fiction' :\")\n",
        "for row in cursor.execute('SELECT * FROM Livres WHERE Genre = \"non-fiction\"'):\n",
        "    print(row)"
      ],
      "metadata": {
        "colab": {
          "base_uri": "https://localhost:8080/"
        },
        "id": "GAxQINkbvAWx",
        "outputId": "601068ad-ce06-4e46-b823-eb46dfbc2b79"
      },
      "execution_count": 6,
      "outputs": [
        {
          "output_type": "stream",
          "name": "stdout",
          "text": [
            "\n",
            "Livres du genre 'non-fiction' :\n",
            "(1, 'Le portrait du nouvel être', ' Abdourahman Barkat God', 2023, 'non-fiction')\n",
            "(2, 'Le Réveil de Djibouti, 1968-1977', ' Rémi Leroux', 1998, 'non-fiction')\n",
            "(3, 'Plus rien ne pourra me blesser', 'David Goggins ', 2023, 'non-fiction')\n"
          ]
        }
      ]
    },
    {
      "cell_type": "markdown",
      "source": [
        "**5. Manipulation des données**"
      ],
      "metadata": {
        "id": "r1W3bLxhvdBj"
      }
    },
    {
      "cell_type": "code",
      "source": [
        "# a. Mettre à jour l'année de publication d'un livre\n",
        "cursor.execute('''\n",
        "UPDATE Livres\n",
        "SET AnnéePublication = 2024\n",
        "WHERE Titre = 'Le portrait du nouvel être'\n",
        "''')\n",
        "conn.commit()"
      ],
      "metadata": {
        "id": "BPM0jiRJvfWo"
      },
      "execution_count": 7,
      "outputs": []
    },
    {
      "cell_type": "code",
      "source": [
        "# Vérification de la mise à jour\n",
        "print(\"\\nMise à jour de l'année de publication de '2023' :\")\n",
        "for row in cursor.execute('SELECT * FROM Livres WHERE Titre = \"Le portrait du nouvel être\"'):\n",
        "    print(row)"
      ],
      "metadata": {
        "colab": {
          "base_uri": "https://localhost:8080/"
        },
        "id": "PY3xZm8Dw16W",
        "outputId": "3f08f04d-12a0-4138-e521-8a76e44fa7a0"
      },
      "execution_count": 9,
      "outputs": [
        {
          "output_type": "stream",
          "name": "stdout",
          "text": [
            "\n",
            "Mise à jour de l'année de publication de '2023' :\n",
            "(1, 'Le portrait du nouvel être', ' Abdourahman Barkat God', 2024, 'non-fiction')\n"
          ]
        }
      ]
    },
    {
      "cell_type": "code",
      "source": [
        "# b. Supprimer un livre\n",
        "cursor.execute('''\n",
        "DELETE FROM Livres\n",
        "WHERE Titre = 'Plus rien ne pourra me blesser'\n",
        "''')\n",
        "conn.commit()"
      ],
      "metadata": {
        "id": "He7GHrrlxIIW"
      },
      "execution_count": 10,
      "outputs": []
    },
    {
      "cell_type": "code",
      "source": [
        "# Vérification de la suppression\n",
        "print(\"\\nVérification de la suppression de 'Plus rien ne pourra me blesser' :\")\n",
        "for row in cursor.execute('SELECT * FROM Livres'):\n",
        "    print(row)"
      ],
      "metadata": {
        "colab": {
          "base_uri": "https://localhost:8080/"
        },
        "id": "8Bpl5EsWxR8t",
        "outputId": "f5d0a80a-a70c-4632-8500-c2fc25621f2f"
      },
      "execution_count": 11,
      "outputs": [
        {
          "output_type": "stream",
          "name": "stdout",
          "text": [
            "\n",
            "Vérification de la suppression de 'Plus rien ne pourra me blesser' :\n",
            "(1, 'Le portrait du nouvel être', ' Abdourahman Barkat God', 2024, 'non-fiction')\n",
            "(2, 'Le Réveil de Djibouti, 1968-1977', ' Rémi Leroux', 1998, 'non-fiction')\n",
            "(4, 'Père riche, père pauvre', ' Robert T. Kiyosaki', 2017, 'non-fiction ')\n"
          ]
        }
      ]
    },
    {
      "cell_type": "markdown",
      "source": [
        "**Fermeture de la connexion**\n"
      ],
      "metadata": {
        "id": "dCjctxUWxahv"
      }
    },
    {
      "cell_type": "code",
      "source": [
        "conn.close()"
      ],
      "metadata": {
        "id": "xZ0REpVIxcwy"
      },
      "execution_count": 12,
      "outputs": []
    }
  ]
}