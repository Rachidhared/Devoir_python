{
 "cells": [
  {
   "cell_type": "markdown",
   "metadata": {},
   "source": [
    "NOM = ABDILLAHI OMAR DJAMA\n",
    "\n",
    "    ABDOULKARIM MOHAMED OSMAN\n",
    "\n",
    "    SOUD AHMED ABDILLAHI\n",
    "    \n",
    "    FAHIMA HAMOUD MOUSSA"
   ]
  },
  {
   "cell_type": "markdown",
   "metadata": {},
   "source": [
    "Partie I : Programmation Orientée Objet (POO) en Python"
   ]
  },
  {
   "cell_type": "markdown",
   "metadata": {},
   "source": [
    "EXOS 1"
   ]
  },
  {
   "cell_type": "code",
   "execution_count": 2,
   "metadata": {},
   "outputs": [
    {
     "name": "stdout",
     "output_type": "stream",
     "text": [
      "Surface: 113.09733552923255\n",
      "Périmètre: 37.69911184307752\n"
     ]
    }
   ],
   "source": [
    "#1. Classe pour représenter un cercle\n",
    "#Code :\n",
    "import math\n",
    "\n",
    "class Cercle:\n",
    "    def __init__(self, rayon):\n",
    "        self.rayon = rayon\n",
    "\n",
    "    def surface(self):\n",
    "        return math.pi * self.rayon ** 2\n",
    "\n",
    "    def perimetre(self):\n",
    "        return 2 * math.pi * self.rayon\n",
    "\n",
    "# Exemple d'utilisation\n",
    "mon_cercle = Cercle(6)\n",
    "print(\"Surface:\", mon_cercle.surface())\n",
    "print(\"Périmètre:\", mon_cercle.perimetre())"
   ]
  },
  {
   "cell_type": "markdown",
   "metadata": {},
   "source": [
    "EXOS2"
   ]
  },
  {
   "cell_type": "code",
   "execution_count": 4,
   "metadata": {},
   "outputs": [
    {
     "name": "stdout",
     "output_type": "stream",
     "text": [
      "Addition: 15\n",
      "Soustraction: 5\n",
      "Multiplication: 50\n",
      "Division: 2.0\n"
     ]
    }
   ],
   "source": [
    "class Calculatrice:\n",
    "    def addition(self, a, b):\n",
    "        return a + b\n",
    "\n",
    "    def soustraction(self, a, b):\n",
    "        return a - b\n",
    "\n",
    "    def multiplication(self, a, b):\n",
    "        return a * b\n",
    "\n",
    "    def division(self, a, b):\n",
    "        if b != 0:\n",
    "            return a / b\n",
    "        else:\n",
    "            return \"Erreur : Division par zéro\"\n",
    "\n",
    "# Exemple d'utilisation\n",
    "calc = Calculatrice()\n",
    "print(\"Addition:\", calc.addition(10, 5))\n",
    "print(\"Soustraction:\", calc.soustraction(10, 5))\n",
    "print(\"Multiplication:\", calc.multiplication(10, 5))\n",
    "print(\"Division:\", calc.division(10, 5))"
   ]
  },
  {
   "cell_type": "markdown",
   "metadata": {},
   "source": [
    "EXOS 3"
   ]
  },
  {
   "cell_type": "code",
   "execution_count": 13,
   "metadata": {},
   "outputs": [
    {
     "name": "stdout",
     "output_type": "stream",
     "text": [
      "Nom: SAAD\n",
      "Âge: 27\n"
     ]
    }
   ],
   "source": [
    "from datetime import date\n",
    "\n",
    "class Personne:\n",
    "    def __init__(self, nom, prenom, pays, date_naissance):\n",
    "        self.nom = nom\n",
    "        self.prenom = prenom\n",
    "        self.pays = pays\n",
    "        self.date_naissance = date_naissance\n",
    "\n",
    "    def calculer_age(self):\n",
    "        aujourd_hui = date.today()\n",
    "        age = aujourd_hui.year - self.date_naissance.year - \\\n",
    "            ((aujourd_hui.month, aujourd_hui.day) < (self.date_naissance.month, self.date_naissance.day))\n",
    "        return age\n",
    "\n",
    "# Exemple d'utilisation\n",
    "ma_personne = Personne(\"SAAD\", \"Omar\", \"DJIBOUTI\", date(1996, 8, 15))\n",
    "from datetime import date\n",
    "\n",
    "class Personne:\n",
    "    def __init__(self, nom, prenom, pays, date_naissance):\n",
    "        self.nom = nom\n",
    "        self.prenom = prenom\n",
    "        self.pays = pays\n",
    "        self.date_naissance = date_naissance\n",
    "\n",
    "    def calculer_age(self):\n",
    "        aujourd_hui = date.today()\n",
    "        age = aujourd_hui.year - self.date_naissance.year - \\\n",
    "            ((aujourd_hui.month, aujourd_hui.day) < (self.date_naissance.month, self.date_naissance.day))\n",
    "        return age\n",
    "\n",
    "# Exemple d'utilisation\n",
    "ma_personne = Personne(\"SAAD\", \"Omar\", \"DJIBOUTI\", date(1996, 8, 15))\n",
    "print(\"Nom:\", ma_personne.nom)\n",
    "print(\"Âge:\", ma_personne.calculer_age())"
   ]
  },
  {
   "cell_type": "markdown",
   "metadata": {},
   "source": [
    "EXOS 4 Creation de la base des donnée"
   ]
  },
  {
   "cell_type": "code",
   "execution_count": 12,
   "metadata": {},
   "outputs": [
    {
     "name": "stdout",
     "output_type": "stream",
     "text": [
      "(1, 'Saad', 'Omar', 15)\n",
      "(2, 'Asma', 'Djama', 17)\n",
      "(3, 'ALI', 'ADEN', 16)\n",
      "(4, 'Saad', 'Omar', 15)\n",
      "(5, 'Asma', 'Djama', 17)\n",
      "(6, 'ALI', 'ADEN', 16)\n",
      "(7, 'Saad', 'Omar', 15)\n",
      "(8, 'Asma', 'Djama', 17)\n",
      "(9, 'ALI', 'ADEN', 16)\n",
      "(10, 'Asma', 'Omar', 21)\n",
      "(11, 'Ali', 'Saad', 22)\n"
     ]
    }
   ],
   "source": [
    "import sqlite3\n",
    "import os\n",
    "\n",
    "# Chemin du dossier pour la base de données\n",
    "db_path = r'C:\\Users\\ABDILLAHIOMARDJAMA\\Desktop\\db'\n",
    "\n",
    "# Chemin complet pour la base de données 'école.db'\n",
    "db_file = os.path.join(db_path, 'école.db')\n",
    "\n",
    "# Créer une connexion à la base de données\n",
    "conn = sqlite3.connect(db_file)\n",
    "cursor = conn.cursor()\n",
    "\n",
    "# Insérer des enregistrements\n",
    "cursor.execute('''\n",
    "INSERT INTO eleves (nom, prenom, age)\n",
    "VALUES ('Asma', 'Omar', 20)\n",
    "''')\n",
    "\n",
    "cursor.execute('''\n",
    "INSERT INTO eleves (nom, prenom, age)\n",
    "VALUES ('Ali', 'Saad', 22)\n",
    "''')\n",
    "\n",
    "# Confirmer les changements\n",
    "conn.commit()\n",
    "\n",
    "# Modifier un enregistrement\n",
    "cursor.execute('''\n",
    "UPDATE eleves\n",
    "SET age = 21\n",
    "WHERE nom = 'Asma' AND prenom = 'Omar'\n",
    "''')\n",
    "\n",
    "# Confirmer les changements\n",
    "conn.commit()\n",
    "\n",
    "# Sélectionner et afficher toutes les données\n",
    "cursor.execute('SELECT * FROM eleves')\n",
    "rows = cursor.fetchall()\n",
    "\n",
    "for row in rows:\n",
    "    print(row)\n",
    "\n",
    "# Fermer le curseur et la connexion\n",
    "cursor.close()\n",
    "conn.close()\n"
   ]
  }
 ],
 "metadata": {
  "kernelspec": {
   "display_name": "Python 3",
   "language": "python",
   "name": "python3"
  },
  "language_info": {
   "codemirror_mode": {
    "name": "ipython",
    "version": 3
   },
   "file_extension": ".py",
   "mimetype": "text/x-python",
   "name": "python",
   "nbconvert_exporter": "python",
   "pygments_lexer": "ipython3",
   "version": "3.12.4"
  }
 },
 "nbformat": 4,
 "nbformat_minor": 2
}
