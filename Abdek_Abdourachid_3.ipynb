{
 "cells": [
  {
   "cell_type": "code",
   "execution_count": 1,
   "id": "3834160d-57c5-4bb8-a730-c611c200ec88",
   "metadata": {},
   "outputs": [
    {
     "name": "stdout",
     "output_type": "stream",
     "text": [
      "'Une cane, une carotte, une cerise' est un palindrome (while): False\n",
      "'Une cane, une carotte, une cerise' est un palindrome (for): False\n",
      "'Etes-vous un grand cricri?' est un palindrome (while): False\n",
      "'Etes-vous un grand cricri?' est un palindrome (for): False\n",
      "'Repaper' est un palindrome (while): True\n",
      "'Repaper' est un palindrome (for): True\n",
      "'Bonjour tout le monde' est un palindrome (while): False\n",
      "'Bonjour tout le monde' est un palindrome (for): False\n",
      "'Elle' est un palindrome (while): True\n",
      "'Elle' est un palindrome (for): True\n"
     ]
    }
   ],
   "source": [
    "import re\n",
    "\n",
    "def nettoyer_text(text: str) -> str:\n",
    "    return re.sub(r'[^a-zA-Z0-9]', '', text).lower()\n",
    "\n",
    "def palindrome_avec_while(text: str) -> bool:\n",
    "    texte_nettoye = nettoyer_text(text)\n",
    "    debut = 0\n",
    "    fin = len(texte_nettoye) - 1\n",
    "\n",
    "    while debut < fin:\n",
    "        if texte_nettoye[debut] != texte_nettoye[fin]:\n",
    "            return False\n",
    "        debut += 1\n",
    "        fin -= 1\n",
    "\n",
    "    return True\n",
    "\n",
    "def palindrome_avec_for(text: str) -> bool:\n",
    "    texte_nettoye = nettoyer_text(text)\n",
    "\n",
    "    for i in range(len(texte_nettoye) // 2):\n",
    "        if texte_nettoye[i] != texte_nettoye[len(texte_nettoye) - 1 - i]:\n",
    "            return False\n",
    "\n",
    "    return True\n",
    "\n",
    "exemples = [\n",
    "    \"Une cane, une carotte, une cerise\",\n",
    "    \"Etes-vous un grand cricri?\",\n",
    "    \"Repaper\",\n",
    "    \"Bonjour tout le monde\",\n",
    "    \"Elle\"\n",
    "]\n",
    "\n",
    "for exemple in exemples:\n",
    "    print(f\"'{exemple}' est un palindrome (while): {palindrome_avec_while(exemple)}\")\n",
    "    print(f\"'{exemple}' est un palindrome (for): {palindrome_avec_for(exemple)}\")\n"
   ]
  },
  {
   "cell_type": "code",
   "execution_count": null,
   "id": "0e36fe6d-d011-4de4-8b92-b440e8e51445",
   "metadata": {},
   "outputs": [],
   "source": []
  }
 ],
 "metadata": {
  "kernelspec": {
   "display_name": "Python 3 (ipykernel)",
   "language": "python",
   "name": "python3"
  },
  "language_info": {
   "codemirror_mode": {
    "name": "ipython",
    "version": 3
   },
   "file_extension": ".py",
   "mimetype": "text/x-python",
   "name": "python",
   "nbconvert_exporter": "python",
   "pygments_lexer": "ipython3",
   "version": "3.11.7"
  }
 },
 "nbformat": 4,
 "nbformat_minor": 5
}
