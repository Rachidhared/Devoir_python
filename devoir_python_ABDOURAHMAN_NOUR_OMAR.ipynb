{
 "cells": [
  {
   "cell_type": "markdown",
   "metadata": {},
   "source": [
    "EXOS 1:"
   ]
  },
  {
   "cell_type": "code",
   "execution_count": 1,
   "metadata": {},
   "outputs": [
    {
     "name": "stdout",
     "output_type": "stream",
     "text": [
      "* * * * * * * * * *\n",
      "* * * * * * * * * *\n",
      "* * * * * * * * * *\n",
      "* * * * * * * * * *\n",
      "* * * * * * * * * *\n",
      "* * * * * * * * * *\n",
      "* * * * * * * * * *\n",
      "* * * * * * * * * *\n",
      "* * * * * * * * * *\n",
      "* * * * * * * * * *\n",
      "* * * X * * * * * *\n",
      "* * * * * * * * T *\n"
     ]
    },
    {
     "ename": "IndexError",
     "evalue": "list index out of range",
     "output_type": "error",
     "traceback": [
      "\u001b[1;31m---------------------------------------------------------------------------\u001b[0m",
      "\u001b[1;31mIndexError\u001b[0m                                Traceback (most recent call last)",
      "Cell \u001b[1;32mIn[1], line 59\u001b[0m\n\u001b[0;32m     56\u001b[0m            \u001b[38;5;28mprint\u001b[39m(\u001b[38;5;124m\"\u001b[39m\u001b[38;5;124mEntrée invalide, veuillez entrer des nombres.\u001b[39m\u001b[38;5;124m\"\u001b[39m)\n\u001b[0;32m     58\u001b[0m \u001b[38;5;28;01mif\u001b[39;00m \u001b[38;5;18m__name__\u001b[39m \u001b[38;5;241m==\u001b[39m \u001b[38;5;124m\"\u001b[39m\u001b[38;5;124m__main__\u001b[39m\u001b[38;5;124m\"\u001b[39m:\n\u001b[1;32m---> 59\u001b[0m    \u001b[43mmain\u001b[49m\u001b[43m(\u001b[49m\u001b[43m)\u001b[49m\n",
      "Cell \u001b[1;32mIn[1], line 50\u001b[0m, in \u001b[0;36mmain\u001b[1;34m()\u001b[0m\n\u001b[0;32m     48\u001b[0m     \u001b[38;5;28mprint\u001b[39m(\u001b[38;5;124m\"\u001b[39m\u001b[38;5;124mFélicitations! Vous avez trouvé le trésor!\u001b[39m\u001b[38;5;124m\"\u001b[39m)\n\u001b[0;32m     49\u001b[0m     \u001b[38;5;28;01mbreak\u001b[39;00m\n\u001b[1;32m---> 50\u001b[0m \u001b[38;5;28;01melif\u001b[39;00m \u001b[43mboard\u001b[49m\u001b[43m[\u001b[49m\u001b[43mguess_x\u001b[49m\u001b[43m]\u001b[49m[guess_y] \u001b[38;5;241m==\u001b[39m \u001b[38;5;124m'\u001b[39m\u001b[38;5;124mX\u001b[39m\u001b[38;5;124m'\u001b[39m:\n\u001b[0;32m     51\u001b[0m     \u001b[38;5;28mprint\u001b[39m(\u001b[38;5;124m\"\u001b[39m\u001b[38;5;124mOh non! Vous êtes tombé dans un piège!\u001b[39m\u001b[38;5;124m\"\u001b[39m)\n\u001b[0;32m     52\u001b[0m     \u001b[38;5;28;01mbreak\u001b[39;00m\n",
      "\u001b[1;31mIndexError\u001b[0m: list index out of range"
     ]
    }
   ],
   "source": [
    " import random\n",
    "\n",
    "def create_board(n, m):\n",
    "    return [['*' for _ in range(m)] for _ in range(n)]\n",
    "\n",
    "def display_board(board):\n",
    "    for row in board:\n",
    "        print(' '.join(row))\n",
    "\n",
    "def place_treasure(board, x, y):\n",
    "    board[x][y] = 'T'\n",
    "\n",
    "def place_trap(board, n, m):\n",
    "    while True:\n",
    "        trap_x = random.randint(0, n - 1)\n",
    "        trap_y = random.randint(0, m - 1)\n",
    "        if board[trap_x][trap_y] != 'T':\n",
    "            board[trap_x][trap_y] = 'X'\n",
    "            break\n",
    "\n",
    "def main():\n",
    "    n = int(input(\"Entrez le nombre de lignes: \"))\n",
    "    m = int(input(\"Entrez le nombre de colonnes: \"))\n",
    "    \n",
    "    board = create_board(n, m)\n",
    "    \n",
    "    while True:\n",
    "        try:\n",
    "            treasure_x = int(input(f\"Entrez la ligne (0-{n-1}) pour cacher le trésor: \"))\n",
    "            treasure_y = int(input(f\"Entrez la colonne (0-{m-1}) pour cacher le trésor: \"))\n",
    "            if 0 <= treasure_x < n and 0 <= treasure_y < m:\n",
    "                break\n",
    "            else:\n",
    "                print(\"Coordonnées invalides, veuillez réessayer.\")\n",
    "        except ValueError:\n",
    "            print(\"Entrée invalide, veuillez entrer des nombres.\")\n",
    "    \n",
    "    place_treasure(board, treasure_x, treasure_y)\n",
    "    place_trap(board, n, m)\n",
    "    \n",
    "    display_board(board)\n",
    "\n",
    "    while True:\n",
    "        try:\n",
    "            guess_x = int(input(f\"Devinez la ligne (0-{n-1}): \"))\n",
    "            guess_y = int(input(f\"Devinez la colonne (0-{m-1}): \"))\n",
    "            if guess_x == treasure_x and guess_y == treasure_y:\n",
    "                print(\"Félicitations! Vous avez trouvé le trésor!\")\n",
    "                break\n",
    "            elif board[guess_x][guess_y] == 'X':\n",
    "                print(\"Oh non! Vous êtes tombé dans un piège!\")\n",
    "                break\n",
    "            else:\n",
    "                print(\"Essayez encore!\")\n",
    "        except ValueError:\n",
    "            print(\"Entrée invalide, veuillez entrer des nombres.\")\n",
    "\n",
    "if __name__ == \"__main__\":\n",
    "    main()\n"
   ]
  },
  {
   "cell_type": "markdown",
   "metadata": {},
   "source": [
    "EXOS 2"
   ]
  },
  {
   "cell_type": "code",
   "execution_count": 2,
   "metadata": {},
   "outputs": [
    {
     "name": "stdout",
     "output_type": "stream",
     "text": [
      "Votre IMC est: 21.38\n",
      "Catégorie: Poids normal\n",
      "Votre IMC est: 14799.52\n",
      "Catégorie: Obésité\n"
     ]
    }
   ],
   "source": [
    "def calculate_bmi(poids, taille):\n",
    "    return round(poids / (taille ** 2), 2)\n",
    "\n",
    "def main():\n",
    "    poids = float(input(\"Entrez votre poids en kilogrammes: \"))\n",
    "    taille = float(input(\"Entrez votre taille en mètres: \"))\n",
    "    \n",
    "    imc = calculate_bmi(poids, taille)\n",
    "    print(f\"Votre IMC est: {imc}\")\n",
    "    \n",
    "    if imc < 18.5:\n",
    "        print(\"Catégorie: Insuffisance pondérale\")\n",
    "    elif 18.5 <= imc < 25:\n",
    "        print(\"Catégorie: Poids normal\")\n",
    "    elif 25 <= imc < 30:\n",
    "        print(\"Catégorie: Surpoids\")\n",
    "    else:\n",
    "        print(\"Catégorie: Obésité\")\n",
    "\n",
    "    choix = input(\"Voulez-vous entrer les mesures en livres et pouces? (oui/non): \").lower()\n",
    "    if choix == 'oui':\n",
    "        poids_lb = float(input(\"Entrez votre poids en livres: \"))\n",
    "        taille_in = float(input(\"Entrez votre taille en pouces: \"))\n",
    "        \n",
    "        poids_kg = poids_lb / 2.20462\n",
    "        taille_m = taille_in / 39.3701\n",
    "        \n",
    "        imc = calculate_bmi(poids_kg, taille_m)\n",
    "        print(f\"Votre IMC est: {imc}\")\n",
    "        \n",
    "        if imc < 18.5:\n",
    "            print(\"Catégorie: Insuffisance pondérale\")\n",
    "        elif 18.5 <= imc < 25:\n",
    "            print(\"Catégorie: Poids normal\")\n",
    "        elif 25 <= imc < 30:\n",
    "            print(\"Catégorie: Surpoids\")\n",
    "        else:\n",
    "            print(\"Catégorie: Obésité\")\n",
    "\n",
    "if __name__ == \"__main__\":\n",
    "    main()\n"
   ]
  },
  {
   "cell_type": "markdown",
   "metadata": {},
   "source": [
    "Exos 3: "
   ]
  },
  {
   "cell_type": "code",
   "execution_count": 3,
   "metadata": {},
   "outputs": [
    {
     "name": "stdout",
     "output_type": "stream",
     "text": [
      "Test de: Un radar\n",
      "Vérification avec while: Pas un palindrome\n",
      "Vérification avec for: Pas un palindrome\n",
      "\n",
      "Test de: Élu par cette crapule\n",
      "Vérification avec while: Pas un palindrome\n",
      "Vérification avec for: Pas un palindrome\n",
      "\n",
      "Test de: Un bon snob nu\n",
      "Vérification avec while: Palindrome\n",
      "Vérification avec for: Palindrome\n",
      "\n",
      "Test de: Pas un palindrome\n",
      "Vérification avec while: Pas un palindrome\n",
      "Vérification avec for: Pas un palindrome\n",
      "\n"
     ]
    }
   ],
   "source": [
    "import re\n",
    "\n",
    "def est_palindrome_while(chaine):\n",
    "   \n",
    "    chaine_nettoyee = re.sub(r'[^A-Za-z0-9]', '', chaine).lower()\n",
    "    gauche = 0\n",
    "    droite = len(chaine_nettoyee) - 1\n",
    "    \n",
    "    while gauche < droite:\n",
    "        if chaine_nettoyee[gauche] != chaine_nettoyee[droite]:\n",
    "            return False\n",
    "        gauche += 1\n",
    "        droite -= 1\n",
    "    return True\n",
    "\n",
    "\n",
    "def est_palindrome_for(chaine):\n",
    "    chaine_nettoyee = re.sub(r'[^A-Za-z0-9]', '', chaine).lower() \n",
    "    for i in range(len(chaine_nettoyee) // 2):\n",
    "        if chaine_nettoyee[i] != chaine_nettoyee[-(i + 1)]:\n",
    "            return False\n",
    "    return True\n",
    "def principal():\n",
    "    chaines_test = [\n",
    "        \"Un radar\",\n",
    "        \"Élu par cette crapule\",\n",
    "        \"Un bon snob nu\",\n",
    "        \"Pas un palindrome\"\n",
    "    ]\n",
    "    \n",
    "    for c in chaines_test:\n",
    "        print(f\"Test de: {c}\")\n",
    "        print(f\"Vérification avec while: {'Palindrome' if est_palindrome_while(c) else 'Pas un palindrome'}\")\n",
    "        print(f\"Vérification avec for: {'Palindrome' if est_palindrome_for(c) else 'Pas un palindrome'}\")\n",
    "        print()\n",
    "\n",
    "if __name__ == \"__main__\":\n",
    "    principal()\n"
   ]
  }
 ],
 "metadata": {
  "kernelspec": {
   "display_name": "Python 3",
   "language": "python",
   "name": "python3"
  },
  "language_info": {
   "codemirror_mode": {
    "name": "ipython",
    "version": 3
   },
   "file_extension": ".py",
   "mimetype": "text/x-python",
   "name": "python",
   "nbconvert_exporter": "python",
   "pygments_lexer": "ipython3",
   "version": "3.12.4"
  }
 },
 "nbformat": 4,
 "nbformat_minor": 2
}
