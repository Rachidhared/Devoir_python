{
  "cells": [
    {
      "cell_type": "markdown",
      "source": [
        "\n",
        "\n",
        "```\n",
        "# Ce texte est au format code\n",
        "```\n",
        "\n",
        "ROOM 5 (hassan houssein, Moustaphe Ali,Abdirahman nour, med-amin ALI et KHADIJA MED)"
      ],
      "metadata": {
        "id": "oDu7IZcajexQ"
      }
    },
    {
      "cell_type": "markdown",
      "metadata": {
        "id": "w9Edtvo0Lgah"
      },
      "source": [
        "exo 1"
      ]
    },
    {
      "cell_type": "code",
      "execution_count": null,
      "metadata": {
        "colab": {
          "base_uri": "https://localhost:8080/"
        },
        "id": "hOBILIgnLe-s",
        "outputId": "726cc534-e8ff-47db-8b48-0384cfd49df8"
      },
      "outputs": [
        {
          "name": "stdout",
          "output_type": "stream",
          "text": [
            "Cercle de rayon 5.00 unités\n",
            "Surface: 78.54\n",
            "Périmètre: 31.42\n"
          ]
        }
      ],
      "source": [
        "import math\n",
        "\n",
        "class Cercle:\n",
        "    def __init__(self, rayon):\n",
        "        \"\"\"Initialise un cercle avec le rayon donné.\"\"\"\n",
        "        self.rayon = rayon\n",
        "\n",
        "    def surface(self):\n",
        "        \"\"\"Retourne la surface du cercle.\"\"\"\n",
        "        return math.pi * (self.rayon ** 2)\n",
        "\n",
        "    def perimetre(self):\n",
        "        \"\"\"Retourne le périmètre du cercle.\"\"\"\n",
        "        return 2 * math.pi * self.rayon\n",
        "\n",
        "    def __str__(self):\n",
        "        \"\"\"Retourne une représentation en chaîne de caractères du cercle.\"\"\"\n",
        "        return f\"Cercle de rayon {self.rayon:.2f} unités\"\n",
        "\n",
        "# Exemple d'utilisation de la classe Cercle\n",
        "if __name__ == \"__main__\":\n",
        "    # Créer une instance de Cercle avec un rayon de 5\n",
        "    mon_cercle = Cercle(5)\n",
        "\n",
        "    # Afficher les informations sur le cercle\n",
        "    print(mon_cercle)\n",
        "\n",
        "    # Calculer et afficher la surface du cercle\n",
        "    print(f\"Surface: {mon_cercle.surface():.2f}\")\n",
        "\n",
        "    # Calculer et afficher le périmètre du cercle\n",
        "    print(f\"Périmètre: {mon_cercle.perimetre():.2f}\")\n"
      ]
    },
    {
      "cell_type": "markdown",
      "metadata": {
        "id": "DPsrtfeLMf_G"
      },
      "source": [
        "EX0 2"
      ]
    },
    {
      "cell_type": "code",
      "execution_count": null,
      "metadata": {
        "colab": {
          "base_uri": "https://localhost:8080/"
        },
        "id": "S7DvE6DtMiMf",
        "outputId": "d75aa39e-49fd-43e2-fff4-75ecae945d03"
      },
      "outputs": [
        {
          "name": "stdout",
          "output_type": "stream",
          "text": [
            "Bienvenue dans la calculatrice!\n",
            "Entrez le premier nombre : 8\n",
            "Entrez le deuxième nombre : 0\n",
            "Addition de 8.0 et 0.0: 8.0\n",
            "Soustraction de 8.0 et 0.0: 8.0\n",
            "Multiplication de 8.0 et 0.0: 0.0\n",
            "La division par zéro n'est pas autorisée.\n",
            "Entrez un nombre pour tenter une division par zéro : 0\n",
            "La division par zéro n'est pas autorisée.\n"
          ]
        }
      ],
      "source": [
        "class Calculatrice:\n",
        "    def __init__(self):\n",
        "        pass\n",
        "\n",
        "    def addition(self, a, b):\n",
        "        return a + b\n",
        "\n",
        "    def soustraction(self, a, b):\n",
        "        return a - b\n",
        "\n",
        "    def multiplication(self, a, b):\n",
        "        return a * b\n",
        "\n",
        "    def division(self, a, b):\n",
        "        if b == 0:\n",
        "            raise ValueError(\"La division par zéro n'est pas autorisée.\")\n",
        "        return a / b\n",
        "\n",
        "def demander_nombre(message):\n",
        "    while True:\n",
        "        try:\n",
        "            return float(input(message))\n",
        "        except ValueError:\n",
        "            print(\"Ce n'est pas un nombre valide. Veuillez essayer encore.\")\n",
        "\n",
        "if __name__ == \"__main__\":\n",
        "    calc = Calculatrice()\n",
        "\n",
        "    print(\"Bienvenue dans la calculatrice!\")\n",
        "\n",
        "    a = demander_nombre(\"Entrez le premier nombre : \")\n",
        "    b = demander_nombre(\"Entrez le deuxième nombre : \")\n",
        "\n",
        "    print(f\"Addition de {a} et {b}: {calc.addition(a, b)}\")\n",
        "    print(f\"Soustraction de {a} et {b}: {calc.soustraction(a, b)}\")\n",
        "    print(f\"Multiplication de {a} et {b}: {calc.multiplication(a, b)}\")\n",
        "\n",
        "    try:\n",
        "        print(f\"Division de {a} et {b}: {calc.division(a, b)}\")\n",
        "    except ValueError as e:\n",
        "        print(e)\n",
        "\n",
        "    try:\n",
        "        div_zero = demander_nombre(\"Entrez un nombre pour tenter une division par zéro : \")\n",
        "        print(f\"Division de {a} par {div_zero}: {calc.division(a, div_zero)}\")\n",
        "    except ValueError as e:\n",
        "        print(e)\n"
      ]
    },
    {
      "cell_type": "markdown",
      "metadata": {
        "id": "scDepTO5P1Py"
      },
      "source": [
        "Exo 3"
      ]
    },
    {
      "cell_type": "code",
      "execution_count": null,
      "metadata": {
        "colab": {
          "background_save": true,
          "base_uri": "https://localhost:8080/"
        },
        "id": "bZ2JOkCeP44s",
        "outputId": "1da6cf43-edbc-4c22-ba36-eaee2da06d95"
      },
      "outputs": [
        {
          "name": "stdout",
          "output_type": "stream",
          "text": [
            "Nom: Mouf Ali\n",
            "Pays: KHATOUM state\n",
            "Date de naissance: 2002-05-15\n",
            "Âge: 22 ans\n"
          ]
        }
      ],
      "source": [
        "from datetime import datetime\n",
        "\n",
        "class Personne:\n",
        "    def __init__(self, nom, pays, date_naissance):\n",
        "        self.nom = nom\n",
        "        self.pays = pays\n",
        "        self.date_naissance = date_naissance\n",
        "\n",
        "    def calculer_age(self):\n",
        "        aujourd_hui = datetime.now()\n",
        "        age = aujourd_hui.year - self.date_naissance.year - ((aujourd_hui.month, aujourd_hui.day) < (self.date_naissance.month, self.date_naissance.day))\n",
        "        return age\n",
        "\n",
        "# Création d'une instance de Personne\n",
        "date_naissance = datetime(2002, 5, 15)  # Exemple de date de naissance : 15 mai 1990\n",
        "personne = Personne(\"Mouf Ali\", \"KHA\", date_naissance)\n",
        "\n",
        "# Affichage des informations\n",
        "print(f\"Nom: {personne.nom}\")\n",
        "print(f\"Pays: {personne.pays}\")\n",
        "print(f\"Date de naissance: {personne.date_naissance.date()}\")\n",
        "print(f\"Âge: {personne.calculer_age()} ans\")\n"
      ]
    },
    {
      "cell_type": "markdown",
      "source": [
        "exo 4"
      ],
      "metadata": {
        "id": "sp0fWPvWn39u"
      }
    },
    {
      "cell_type": "code",
      "source": [
        "import sqlite3\n",
        "\n",
        "# Connexion à la base de données (création si elle n'existe pas)\n",
        "conn = sqlite3.connect('ecole.db')\n",
        "cursor = conn.cursor()\n",
        "\n",
        "# Création de la table eleves\n",
        "cursor.execute('''\n",
        "CREATE TABLE IF NOT EXISTS eleves (\n",
        "    id INTEGER PRIMARY KEY AUTOINCREMENT,\n",
        "    nom TEXT NOT NULL,\n",
        "    prenom TEXT NOT NULL,\n",
        "    age INTEGER NOT NULL\n",
        ")\n",
        "''')\n",
        "\n",
        "# Confirmation des modifications\n",
        "conn.commit()\n",
        "conn.close()\n",
        "import sqlite3\n",
        "\n",
        "# Connexion à la base de données\n",
        "conn = sqlite3.connect('ecole.db')\n",
        "cursor = conn.cursor()\n",
        "\n",
        "# Insertion de données\n",
        "eleves = [\n",
        "    ('Dupont', 'Jean', 14),\n",
        "    ('Martin', 'Claire', 15),\n",
        "    ('Bernard', 'Paul', 13)\n",
        "]\n",
        "cursor.executemany('''\n",
        "INSERT INTO eleves (nom, prenom, age) VALUES (?, ?, ?)\n",
        "''', eleves)\n",
        "\n",
        "# Confirmation des modifications\n",
        "conn.commit()\n",
        "conn.close()\n",
        "\n",
        "import sqlite3\n",
        "\n",
        "# Connexion à la base de données\n",
        "conn = sqlite3.connect('ecole.db')\n",
        "cursor = conn.cursor()\n",
        "\n",
        "# Mise à jour des données\n",
        "cursor.execute('''\n",
        "UPDATE eleves\n",
        "SET age = ?\n",
        "WHERE nom = ? AND prenom = ?\n",
        "''', (16, 'Martin', 'Claire'))\n",
        "\n",
        "# Confirmation des modifications\n",
        "conn.commit()\n",
        "conn.close()\n",
        "import sqlite3\n",
        "\n",
        "# Connexion à la base de données\n",
        "conn = sqlite3.connect('ecole.db')\n",
        "cursor = conn.cursor()\n",
        "\n",
        "# Sélection des données\n",
        "cursor.execute('SELECT * FROM eleves')\n",
        "resultats = cursor.fetchall()\n",
        "\n",
        "# Affichage des résultats\n",
        "for eleve in resultats:\n",
        "    print(eleve)\n",
        "\n",
        "# Fermeture de la connexion\n",
        "conn.close()"
      ],
      "metadata": {
        "colab": {
          "base_uri": "https://localhost:8080/"
        },
        "id": "EELvw0O8n3dX",
        "outputId": "e291f3d9-2a75-472d-f58b-de0ebb2aabdd"
      },
      "execution_count": 22,
      "outputs": [
        {
          "output_type": "stream",
          "name": "stdout",
          "text": [
            "(1, 'Dajieh', 'Hassan', 14)\n",
            "(2, 'Omar', 'Warfa', 10)\n",
            "(3, 'ALI', 'Guedi', 13)\n",
            "(4, 'Dajieh', 'Hassan', 14)\n",
            "(5, 'Omar', 'Warfa', 10)\n",
            "(6, 'ALI', 'Guedi', 13)\n",
            "(7, 'Dajieh', 'Hassan', 14)\n",
            "(8, 'Omar', 'Warfa', 10)\n",
            "(9, 'ALI', 'Guedi', 13)\n",
            "(10, 'Dajieh', 'Hassan', 14)\n",
            "(11, 'Omar', 'Warfa', 10)\n",
            "(12, 'ALI', 'Guedi', 13)\n",
            "(13, 'Dupont', 'Jean', 14)\n",
            "(14, 'Martin', 'Claire', 16)\n",
            "(15, 'Bernard', 'Paul', 13)\n"
          ]
        }
      ]
    }
  ],
  "metadata": {
    "colab": {
      "provenance": []
    },
    "kernelspec": {
      "display_name": "Python 3",
      "name": "python3"
    },
    "language_info": {
      "name": "python"
    }
  },
  "nbformat": 4,
  "nbformat_minor": 0
}