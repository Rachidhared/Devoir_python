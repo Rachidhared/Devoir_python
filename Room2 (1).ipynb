{
 "cells": [
  {
   "cell_type": "markdown",
   "metadata": {
    "id": "Jxs2FFnYNqUl"
   },
   "source": [
    "# EXO 1 CLASSSE CERCLE"
   ]
  },
  {
   "cell_type": "code",
   "execution_count": null,
   "metadata": {
    "colab": {
     "base_uri": "https://localhost:8080/"
    },
    "id": "oBOrQoJtK5zk",
    "outputId": "602a140c-4c03-43f9-bfe9-ecd482e52e69"
   },
   "outputs": [
    {
     "name": "stdout",
     "output_type": "stream",
     "text": [
      "Surface: 314.1592653589793\n",
      "Périmètre: 62.83185307179586\n"
     ]
    }
   ],
   "source": [
    "import math\n",
    "class Cercle:\n",
    "    def __init__(self, rayon):\n",
    "        self.rayon = rayon\n",
    "\n",
    "    def surface(self):\n",
    "        return math.pi * (self.rayon ** 2)\n",
    "\n",
    "    def perimetre(self):\n",
    "        return 2 * math.pi * self.rayon\n",
    "\n",
    "\n",
    "#TEST\n",
    "cercle = Cercle(10)\n",
    "print(\"Surface:\", cercle.surface())\n",
    "print(\"Périmètre:\", cercle.perimetre())"
   ]
  },
  {
   "cell_type": "markdown",
   "metadata": {
    "id": "53fZ0DlmN-Z8"
   },
   "source": [
    "# EXO 2 CLASSE CALCULATRICE"
   ]
  },
  {
   "cell_type": "code",
   "execution_count": null,
   "metadata": {
    "colab": {
     "base_uri": "https://localhost:8080/"
    },
    "id": "2RN0W22kOON8",
    "outputId": "e755cf32-acaa-427d-fd53-152859fc428d"
   },
   "outputs": [
    {
     "name": "stdout",
     "output_type": "stream",
     "text": [
      "Addition: 8 + 4 = 12\n",
      "Soustraction: 8- 4 = 4\n",
      "Multiplication: 8 * 4 = 32\n",
      "Division: 8/ 4 = 2.0\n"
     ]
    }
   ],
   "source": [
    "class Calculatrice:\n",
    "    def addition(self, n1, n2):\n",
    "        return n1+n2\n",
    "\n",
    "    def soustraction(self, n1, n2):\n",
    "        return n1 - n2\n",
    "\n",
    "    def multiplication(self, n1, n2):\n",
    "        return n1 * n2\n",
    "\n",
    "    def division(self, n1, n2):\n",
    "        if n2 != 0:\n",
    "            return n1 / n2\n",
    "        else:\n",
    "            return \"Erreur\"\n",
    "\n",
    "#test\n",
    "calcul = Calculatrice()\n",
    "\n",
    "print(\"Addition: 8 + 4 =\", calcul.addition(8, 4))\n",
    "print(\"Soustraction: 8- 4 =\", calcul.soustraction(8, 4))\n",
    "print(\"Multiplication: 8 * 4 =\", calcul.multiplication(8, 4))\n",
    "print(\"Division: 8/ 4 =\", calcul.division(8, 4))"
   ]
  },
  {
   "cell_type": "markdown",
   "metadata": {
    "id": "nsZRvaASPldX"
   },
   "source": [
    "# EXO 3 CLASSE PERSONNE"
   ]
  },
  {
   "cell_type": "code",
   "execution_count": null,
   "metadata": {
    "colab": {
     "base_uri": "https://localhost:8080/"
    },
    "id": "ztPJsYRLP02t",
    "outputId": "49711d45-b125-4449-f729-ba33f938bf30"
   },
   "outputs": [
    {
     "name": "stdout",
     "output_type": "stream",
     "text": [
      "Ali a 37 ans.\n",
      "Fatouma a 20 ans.\n"
     ]
    }
   ],
   "source": [
    "from datetime import datetime\n",
    "class Personne:\n",
    "    def __init__(self, nom, pays, date_naissance):\n",
    "        self.nom = nom\n",
    "        self.pays = pays\n",
    "        self.date_naissance = datetime.strptime(date_naissance, \"%Y-%m-%d\")\n",
    "\n",
    "    def calculer_age(self):\n",
    "        aujourdhui = datetime.today()\n",
    "        age = aujourdhui.year - self.date_naissance.year\n",
    "        if aujourdhui < self.date_naissance.replace(year=aujourdhui.year):\n",
    "            age =age-1\n",
    "        return age\n",
    "\n",
    " #Test\n",
    "\n",
    "personne1 = Personne(\"Ali\", \"Djibouti\", \"1987-04-12\")\n",
    "personne2 = Personne(\"Fatouma\", \"Ethiopie\", \"2004-08-09\")\n",
    "\n",
    "print(f\"{personne1.nom} a {personne1.calculer_age()} ans.\")\n",
    "print(f\"{personne2.nom} a {personne2.calculer_age()} ans.\")"
   ]
  },
  {
   "cell_type": "markdown",
   "metadata": {
    "id": "XAnyA6LBRv8y"
   },
   "source": [
    "EXO 4 GESTION D'UNE BASE DES DONNEES"
   ]
  },
  {
   "cell_type": "code",
   "execution_count": null,
   "metadata": {
    "colab": {
     "base_uri": "https://localhost:8080/"
    },
    "id": "q1KVbfAOTJuc",
    "outputId": "45635748-38d6-4d89-80f7-bff798ac156a"
   },
   "outputs": [
    {
     "name": "stdout",
     "output_type": "stream",
     "text": [
      "Requirement already satisfied: pysqlite3 in /usr/local/lib/python3.10/dist-packages (0.5.3)\n"
     ]
    }
   ],
   "source": [
    "!pip install pysqlite3\n"
   ]
  },
  {
   "cell_type": "markdown",
   "metadata": {
    "id": "8n7dCCaiXSOz"
   },
   "source": [
    "# Question 1: Construction de la base des donnees"
   ]
  },
  {
   "cell_type": "code",
   "execution_count": 9,
   "metadata": {
    "colab": {
     "base_uri": "https://localhost:8080/"
    },
    "id": "E_ofTrm1Tzoc",
    "outputId": "8fc84caf-72d8-45b8-9805-5d8ab87e2383"
   },
   "outputs": [
    {
     "data": {
      "text/plain": [
       "<sqlite3.Cursor at 0x25ad112fa40>"
      ]
     },
     "execution_count": 9,
     "metadata": {},
     "output_type": "execute_result"
    }
   ],
   "source": [
    "#Créer la base de données : « école »\n",
    "import sqlite3\n",
    "connexion=sqlite3.connect('ecole.db')\n",
    "curseur=connexion.cursor()\n",
    "curseur.execute('''CREATE TABLE IF NOT EXISTS eleve\n",
    "                ( id INTEGER PRIMARY KEY,\n",
    "                 nom TEXT,\n",
    "                 prenom TEXT ,\n",
    "                 age INTEGER\n",
    "                )\n",
    "''')"
   ]
  },
  {
   "cell_type": "markdown",
   "metadata": {
    "id": "vvBo0BXXXacP"
   },
   "source": [
    "# Question 2 : Insertion des donnees"
   ]
  },
  {
   "cell_type": "code",
   "execution_count": 11,
   "metadata": {
    "colab": {
     "base_uri": "https://localhost:8080/"
    },
    "id": "Xt5sXP4NXegd",
    "outputId": "aab80c23-2894-44fd-cecd-ff91bfb71745"
   },
   "outputs": [
    {
     "name": "stdout",
     "output_type": "stream",
     "text": [
      "(1, 'ali', 'fatouma', 2002)\n",
      "(2, 'ahmed', 'leila', 2004)\n",
      "(3, 'omar', 'said', 1997)\n",
      "(4, 'moustapha', 'abdi', 2008)\n"
     ]
    }
   ],
   "source": [
    "\n",
    "connexion=sqlite3.connect('ecole.db')\n",
    "curseur=connexion.cursor()\n",
    "curseur.execute(\"INSERT INTO eleve (nom,prenom,age) VALUES (?,?,?)\",(\"ali\",\"fatouma\",2002))\n",
    "curseur.execute(\"INSERT INTO eleve (nom,prenom,age) VALUES (?,?,?)\",(\"ahmed\",\"leila\",2004))\n",
    "curseur.execute(\"INSERT INTO eleve (nom,prenom,age) VALUES (?,?,?)\",(\"omar\",\"said\",1997))\n",
    "curseur.execute(\"INSERT INTO eleve (nom,prenom,age) VALUES (?,?,?)\",(\"moustapha\",\"abdi\",2008))\n",
    "curseur.execute(\"SELECT * FROM eleve\")\n",
    "lignes=curseur.fetchall()\n",
    "for ligne in lignes :\n",
    "    print(ligne)\n",
    "connexion.commit()"
   ]
  },
  {
   "cell_type": "markdown",
   "metadata": {
    "id": "VOxTaay7YWFj"
   },
   "source": [
    "# Question 3: Modification des enregistrements"
   ]
  },
  {
   "cell_type": "code",
   "execution_count": 13,
   "metadata": {
    "colab": {
     "base_uri": "https://localhost:8080/"
    },
    "id": "eQnwwczgaE1m",
    "outputId": "b118f300-e921-464c-f2dc-3761eceb790c"
   },
   "outputs": [
    {
     "data": {
      "text/plain": [
       "<function Connection.close()>"
      ]
     },
     "execution_count": 13,
     "metadata": {},
     "output_type": "execute_result"
    }
   ],
   "source": [
    "\n",
    "connexion=sqlite3.connect('ecole.db')\n",
    "curseur=connexion.cursor()\n",
    "curseur.execute(\"UPDATE eleve SET age = ? WHERE nom= ?\", (2012, \"ahmed\"))\n",
    "curseur.execute(\"DELETE FROM eleve WHERE age = ?\", (1997,))\n",
    "connexion.commit()\n",
    "connexion.close"
   ]
  },
  {
   "cell_type": "markdown",
   "metadata": {
    "id": "1DEooqvMeRUG"
   },
   "source": [
    "# Question 4 :  effectuer une requête pour sélectionner des données dans la table créée"
   ]
  },
  {
   "cell_type": "code",
   "execution_count": 15,
   "metadata": {
    "colab": {
     "base_uri": "https://localhost:8080/"
    },
    "id": "Uf1_Au3pbIoS",
    "outputId": "bed626df-0173-401f-dd4f-b58d7aec5a26"
   },
   "outputs": [
    {
     "name": "stdout",
     "output_type": "stream",
     "text": [
      "(1, 'ali', 'fatouma', 2002)\n",
      "(2, 'ahmed', 'leila', 2012)\n",
      "(4, 'moustapha', 'abdi', 2008)\n"
     ]
    }
   ],
   "source": [
    "# 4. effectuer une requête pour sélectionner des données dans la table créée\n",
    "connexion=sqlite3.connect('ecole.db')\n",
    "curseur=connexion.cursor()\n",
    "curseur.execute(\"SELECT * FROM eleve\")\n",
    "lignes=curseur.fetchall()\n",
    "for ligne in lignes :\n",
    "    print(ligne)\n",
    "connexion.commit()\n",
    "connexion.close()"
   ]
  },
  {
   "cell_type": "code",
   "execution_count": null,
   "metadata": {},
   "outputs": [],
   "source": []
  }
 ],
 "metadata": {
  "colab": {
   "provenance": []
  },
  "kernelspec": {
   "display_name": "Python 3 (ipykernel)",
   "language": "python",
   "name": "python3"
  },
  "language_info": {
   "codemirror_mode": {
    "name": "ipython",
    "version": 3
   },
   "file_extension": ".py",
   "mimetype": "text/x-python",
   "name": "python",
   "nbconvert_exporter": "python",
   "pygments_lexer": "ipython3",
   "version": "3.12.4"
  }
 },
 "nbformat": 4,
 "nbformat_minor": 4
}
