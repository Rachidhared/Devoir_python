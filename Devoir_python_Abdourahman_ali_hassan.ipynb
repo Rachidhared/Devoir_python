{
 "cells": [
  {
   "cell_type": "markdown",
   "id": "1a1a7be7-dad1-4f23-9330-a8610f3c7881",
   "metadata": {},
   "source": [
    "## Exo 1"
   ]
  },
  {
   "cell_type": "code",
   "execution_count": 20,
   "id": "f92c040c-b4df-4378-a040-d37bdfe433d5",
   "metadata": {},
   "outputs": [
    {
     "name": "stdin",
     "output_type": "stream",
     "text": [
      "Entrez le nombre de lignes du plateau:  5\n",
      "Entrez le nombre de colonnes du plateau:  4\n",
      "Entrez la position pour cacher le trésor (ligne, colonne):  3,4\n"
     ]
    },
    {
     "name": "stdout",
     "output_type": "stream",
     "text": [
      "Position invalide. Veuillez entrer des valeurs entre 0 et 4 pour les lignes et entre 0 et 3 pour les colonnes.\n"
     ]
    },
    {
     "name": "stdin",
     "output_type": "stream",
     "text": [
      "Entrez la position pour cacher le trésor (ligne, colonne):  4,3\n"
     ]
    },
    {
     "name": "stdout",
     "output_type": "stream",
     "text": [
      "Voici le plateau de jeu:\n",
      "* * X *\n",
      "* * * *\n",
      "* * * *\n",
      "* * * *\n",
      "* * * T\n",
      "\n"
     ]
    },
    {
     "name": "stdin",
     "output_type": "stream",
     "text": [
      "Devinez la position du trésor (ligne, colonne):  3,2\n"
     ]
    },
    {
     "name": "stdout",
     "output_type": "stream",
     "text": [
      "Pas de trésor ici. Essayez encore.\n"
     ]
    },
    {
     "name": "stdin",
     "output_type": "stream",
     "text": [
      "Devinez la position du trésor (ligne, colonne):  3,4\n"
     ]
    },
    {
     "name": "stdout",
     "output_type": "stream",
     "text": [
      "Position invalide. Veuillez entrer des valeurs entre 0 et 4 pour les lignes et entre 0 et 3 pour les colonnes.\n"
     ]
    },
    {
     "name": "stdin",
     "output_type": "stream",
     "text": [
      "Devinez la position du trésor (ligne, colonne):  4,3\n"
     ]
    },
    {
     "name": "stdout",
     "output_type": "stream",
     "text": [
      "Félicitations! Vous avez trouvé le trésor!\n"
     ]
    }
   ],
   "source": [
    "import random\n",
    "\n",
    "def create_board(n, m):\n",
    "    return [['*' for _ in range(m)] for _ in range(n)]\n",
    "\n",
    "def print_board(board):\n",
    "    for row in board:\n",
    "        print(' '.join(row))\n",
    "    print()\n",
    "\n",
    "def place_treasure(board, x, y):\n",
    "    board[x][y] = 'T'\n",
    "\n",
    "def place_trap(board, n, m, treasure_x, treasure_y):\n",
    "    while True:\n",
    "        trap_x = random.randint(0, n-1)\n",
    "        trap_y = random.randint(0, m-1)\n",
    "        if trap_x != treasure_x or trap_y != treasure_y:\n",
    "            board[trap_x][trap_y] = 'X'\n",
    "            break\n",
    "\n",
    "def get_valid_position(prompt, n, m):\n",
    "    while True:\n",
    "        try:\n",
    "            pos = input(prompt).split(',')\n",
    "            x, y = int(pos[0].strip()), int(pos[1].strip())\n",
    "            if 0 <= x < n and 0 <= y < m:\n",
    "                return x, y\n",
    "            else:\n",
    "                print(f\"Position invalide. Veuillez entrer des valeurs entre 0 et {n-1} pour les lignes et entre 0 et {m-1} pour les colonnes.\")\n",
    "        except (ValueError, IndexError):\n",
    "            print(\"Entrée invalide. Veuillez entrer les coordonnées sous la forme 'ligne, colonne'.\")\n",
    "\n",
    "def main():\n",
    "    # Demander la taille du plateau\n",
    "    n = int(input(\"Entrez le nombre de lignes du plateau: \"))\n",
    "    m = int(input(\"Entrez le nombre de colonnes du plateau: \"))\n",
    "    \n",
    "    # Créer le plateau\n",
    "    board = create_board(n, m)\n",
    "    \n",
    "    # Demander où cacher le trésor\n",
    "    treasure_x, treasure_y = get_valid_position(\"Entrez la position pour cacher le trésor (ligne, colonne): \", n, m)\n",
    "    place_treasure(board, treasure_x, treasure_y)\n",
    "    \n",
    "    # Placer le piège\n",
    "    place_trap(board, n, m, treasure_x, treasure_y)\n",
    "    \n",
    "    # Afficher le plateau initial avec le trésor et le piège\n",
    "    print(\"Voici le plateau de jeu:\")\n",
    "    print_board(board)\n",
    "    \n",
    "    # Boucle de jeu pour deviner le trésor\n",
    "    while True:\n",
    "        guess_x, guess_y = get_valid_position(\"Devinez la position du trésor (ligne, colonne): \", n, m)\n",
    "        if (guess_x, guess_y) == (treasure_x, treasure_y):\n",
    "            print(\"Félicitations! Vous avez trouvé le trésor!\")\n",
    "            break\n",
    "        elif board[guess_x][guess_y] == 'X':\n",
    "            print(\"Oh non! Vous avez été piégé!\")\n",
    "            break\n",
    "        else:\n",
    "            print(\"Pas de trésor ici. Essayez encore.\")\n",
    "        \n",
    "if __name__ == \"__main__\":\n",
    "    main()\n"
   ]
  },
  {
   "cell_type": "markdown",
   "id": "3ab505d9-dc86-4e51-8d4a-bbcf45a975ef",
   "metadata": {},
   "source": [
    "## Exo 2"
   ]
  },
  {
   "cell_type": "code",
   "execution_count": 17,
   "id": "3a18d031-2981-44d8-94bd-d38dd7bd1d40",
   "metadata": {},
   "outputs": [
    {
     "name": "stdin",
     "output_type": "stream",
     "text": [
      "Entrez votre poids en kg: 53\n",
      "Entrez votre taille en m 174\n"
     ]
    }
   ],
   "source": [
    "poids=int(input(\"Entrez votre poids en kg:\"))\n",
    "taille=float(input(\"Entrez votre taille en m\"))\n",
    "\n",
    "def calculate_bmi(poids,taille):\n",
    "    imc=poids/(taille**2)\n",
    "    if imc > 18.5 :\n",
    "        return print(\"insuffisance ponderale.\")\n",
    "    elif imc > 18.5 or imc < 24.9:\n",
    "        return print(\"poids normal.\")\n",
    "    else:\n",
    "        return print(\"Obésité .\")\n"
   ]
  },
  {
   "cell_type": "markdown",
   "id": "8f54bffc-99c7-464b-8878-798e8a45d7b4",
   "metadata": {},
   "source": [
    "## Exo 3"
   ]
  },
  {
   "cell_type": "code",
   "execution_count": 19,
   "id": "2d1a05cd-6b70-4c20-af7e-5f457bc92972",
   "metadata": {},
   "outputs": [
    {
     "ename": "IndentationError",
     "evalue": "unindent does not match any outer indentation level (<tokenize>, line 4)",
     "output_type": "error",
     "traceback": [
      "\u001b[1;36m  File \u001b[1;32m<tokenize>:4\u001b[1;36m\u001b[0m\n\u001b[1;33m    else :\u001b[0m\n\u001b[1;37m    ^\u001b[0m\n\u001b[1;31mIndentationError\u001b[0m\u001b[1;31m:\u001b[0m unindent does not match any outer indentation level\n"
     ]
    }
   ],
   "source": [
    "a=input(\"entre une phrase:\")\n",
    "\n",
    "def is_palindrome_while(a) == True :\n",
    "    print(\"la chaîne est palindrome.\")\n",
    "        else :     \n",
    "   print(\"c'est ne pas un palindrome\")"
   ]
  },
  {
   "cell_type": "code",
   "execution_count": null,
   "id": "097e993e-6416-4c16-8ff1-cd4a4368e077",
   "metadata": {},
   "outputs": [],
   "source": []
  }
 ],
 "metadata": {
  "kernelspec": {
   "display_name": "Python 3 (ipykernel)",
   "language": "python",
   "name": "python3"
  },
  "language_info": {
   "codemirror_mode": {
    "name": "ipython",
    "version": 3
   },
   "file_extension": ".py",
   "mimetype": "text/x-python",
   "name": "python",
   "nbconvert_exporter": "python",
   "pygments_lexer": "ipython3",
   "version": "3.11.0"
  }
 },
 "nbformat": 4,
 "nbformat_minor": 5
}
