{
  "nbformat": 4,
  "nbformat_minor": 0,
  "metadata": {
    "colab": {
      "provenance": [],
      "authorship_tag": "ABX9TyMLvZ1mRCQw4AscHVE6L9fo",
      "include_colab_link": true
    },
    "kernelspec": {
      "name": "python3",
      "display_name": "Python 3"
    },
    "language_info": {
      "name": "python"
    }
  },
  "cells": [
    {
      "cell_type": "markdown",
      "metadata": {
        "id": "view-in-github",
        "colab_type": "text"
      },
      "source": [
        "<a href=\"https://colab.research.google.com/github/Rachidhared/Devoir_python/blob/main/devoir_bibliotheque_Kadidja_AbdoSalam.ipynb\" target=\"_parent\"><img src=\"https://colab.research.google.com/assets/colab-badge.svg\" alt=\"Open In Colab\"/></a>"
      ]
    },
    {
      "cell_type": "code",
      "execution_count": null,
      "metadata": {
        "id": "MvOW66_VCW3r"
      },
      "outputs": [],
      "source": []
    },
    {
      "cell_type": "markdown",
      "source": [
        "**installation du bibliotheque sqlite3**"
      ],
      "metadata": {
        "id": "AU4kJBQfCiCD"
      }
    },
    {
      "cell_type": "code",
      "source": [
        "!pip install pysqlite3"
      ],
      "metadata": {
        "colab": {
          "base_uri": "https://localhost:8080/"
        },
        "id": "x9nKEgNdCrm9",
        "outputId": "f8fd36f0-39ea-4377-87ae-b81617fc1930"
      },
      "execution_count": null,
      "outputs": [
        {
          "output_type": "stream",
          "name": "stdout",
          "text": [
            "Collecting pysqlite3\n",
            "  Downloading pysqlite3-0.5.3.tar.gz (40 kB)\n",
            "\u001b[?25l     \u001b[90m━━━━━━━━━━━━━━━━━━━━━━━━━━━━━━━━━━━━━━━━\u001b[0m \u001b[32m0.0/40.8 kB\u001b[0m \u001b[31m?\u001b[0m eta \u001b[36m-:--:--\u001b[0m\r\u001b[2K     \u001b[90m━━━━━━━━━━━━━━━━━━━━━━━━━━━━━━━━━━━━━━━━\u001b[0m \u001b[32m40.8/40.8 kB\u001b[0m \u001b[31m1.5 MB/s\u001b[0m eta \u001b[36m0:00:00\u001b[0m\n",
            "\u001b[?25h  Preparing metadata (setup.py) ... \u001b[?25l\u001b[?25hdone\n",
            "Building wheels for collected packages: pysqlite3\n",
            "  Building wheel for pysqlite3 (setup.py) ... \u001b[?25l\u001b[?25hdone\n",
            "  Created wheel for pysqlite3: filename=pysqlite3-0.5.3-cp310-cp310-linux_x86_64.whl size=151106 sha256=1eb8c4a4010f465f1200b0179cee9f17f36e6c95641b441a04b95e51bc455f9c\n",
            "  Stored in directory: /root/.cache/pip/wheels/6d/5b/04/3e6115d6b90cd4d63a55c4d13685fe8117bb87d5997a215e71\n",
            "Successfully built pysqlite3\n",
            "Installing collected packages: pysqlite3\n",
            "Successfully installed pysqlite3-0.5.3\n"
          ]
        }
      ]
    },
    {
      "cell_type": "markdown",
      "source": [
        "**importation du bibliotheque**"
      ],
      "metadata": {
        "id": "npq8Z-6QDA9I"
      }
    },
    {
      "cell_type": "code",
      "source": [
        "import sqlite3"
      ],
      "metadata": {
        "id": "SVcbGt-EDH4u"
      },
      "execution_count": 2,
      "outputs": []
    },
    {
      "cell_type": "markdown",
      "source": [
        "**Creation d'une connexion**"
      ],
      "metadata": {
        "id": "UgGB_ynIDMnB"
      }
    },
    {
      "cell_type": "code",
      "source": [
        "con=sqlite3.connect(\"personalLibrary.db\")"
      ],
      "metadata": {
        "id": "kBzyQBVCDQe2"
      },
      "execution_count": 3,
      "outputs": []
    },
    {
      "cell_type": "markdown",
      "source": [
        "**Conception de la table**"
      ],
      "metadata": {
        "id": "fKPPme5tEAaN"
      }
    },
    {
      "cell_type": "markdown",
      "source": [
        "creation du curseur"
      ],
      "metadata": {
        "id": "Xqp5r9uDEXYt"
      }
    },
    {
      "cell_type": "code",
      "source": [
        "curseur=con.cursor()"
      ],
      "metadata": {
        "id": "dowN2r-1Eex7"
      },
      "execution_count": null,
      "outputs": []
    },
    {
      "cell_type": "markdown",
      "source": [
        "**Creation d'une table Livres**"
      ],
      "metadata": {
        "id": "5r0ttwIYE0WX"
      }
    },
    {
      "cell_type": "code",
      "source": [
        "\n",
        "curseur=con.cursor()\n",
        "curseur.execute(''' CREATE TABLE IF NOT EXISTS Livres(BookID integer PRIMARY KEY,Titre TEXT,Auteur TEXT,AnneePublication integer,Genre TEXT)''')"
      ],
      "metadata": {
        "colab": {
          "base_uri": "https://localhost:8080/"
        },
        "id": "FQ25GC4GE_Wq",
        "outputId": "9635bd19-edb1-49ea-8364-89b631c88be8"
      },
      "execution_count": 4,
      "outputs": [
        {
          "output_type": "execute_result",
          "data": {
            "text/plain": [
              "<sqlite3.Cursor at 0x799e646c26c0>"
            ]
          },
          "metadata": {},
          "execution_count": 4
        }
      ]
    },
    {
      "cell_type": "markdown",
      "source": [
        "**Insertion des donnees**"
      ],
      "metadata": {
        "id": "h_Fn_uEmHPnO"
      }
    },
    {
      "cell_type": "code",
      "source": [
        "\n",
        "curseur=con.cursor()\n",
        "curseur.execute('''INSERT INTO Livres(Titre,Auteur,AnneePublication,Genre) VALUES(?,?,?,?)''',(\"enfants de balbala\",\"Rachid Hachi\",2007,\"Roman\"))\n",
        "curseur.execute('''INSERT INTO Livres(Titre,Auteur,AnneePublication,Genre) VALUES(?,?,?,?)''',(\"Parure\",\"Guy de maupassant\",1922,\"nouvelle\"))\n",
        "curseur.execute('''INSERT INTO Livres(Titre,Auteur,AnneePublication,Genre) VALUES(?,?,?,?)''',(\"Khalil\",\"yasmina khadra\",2001,\"Roman\"))\n",
        "curseur.execute('''INSERT INTO Livres(Titre,Auteur,AnneePublication,Genre) VALUES(?,?,?,?)''',(\"Ayan Daran\",\"Rachid Hachi\",2000,\"Roman\"))\n",
        "curseur.execute('''INSERT INTO Livres(Titre,Auteur,AnneePublication,Genre) VALUES(?,?,?,?)''',(\"Echos de djibouti\",\"Ahmed Abdourazak\",2018,\"Roman\"))\n",
        "\n"
      ],
      "metadata": {
        "colab": {
          "base_uri": "https://localhost:8080/"
        },
        "id": "Tut4xYqPHW9t",
        "outputId": "f4fac0e6-5368-496b-cd92-0d6984fffad5"
      },
      "execution_count": 5,
      "outputs": [
        {
          "output_type": "execute_result",
          "data": {
            "text/plain": [
              "<sqlite3.Cursor at 0x799e646c2bc0>"
            ]
          },
          "metadata": {},
          "execution_count": 5
        }
      ]
    },
    {
      "cell_type": "markdown",
      "source": [
        "**Recuperation des donnees**"
      ],
      "metadata": {
        "id": "IEI6YJDMUAia"
      }
    },
    {
      "cell_type": "markdown",
      "source": [
        "**Selectionner toutes les lignes de Livres**"
      ],
      "metadata": {
        "id": "NMbG4wIsUF6T"
      }
    },
    {
      "cell_type": "code",
      "source": [
        "\n",
        "curseur=con.cursor()\n",
        "curseur.execute('''SELECT * FROM Livres''')\n",
        "for ligne in curseur.fetchall():\n",
        "  print(ligne)\n"
      ],
      "metadata": {
        "id": "6jrTcmNvUO8a",
        "colab": {
          "base_uri": "https://localhost:8080/"
        },
        "outputId": "b258166a-0707-4040-b648-a07dd8585eec"
      },
      "execution_count": 6,
      "outputs": [
        {
          "output_type": "stream",
          "name": "stdout",
          "text": [
            "(1, 'enfants de balbala', 'Rachid Hachi', 2007, 'Roman')\n",
            "(2, 'Parure', 'Guy de maupassant', 1922, 'nouvelle')\n",
            "(3, 'Khalil', 'yasmina khadra', 2001, 'Roman')\n",
            "(4, 'Ayan Daran', 'Rachid Hachi', 2000, 'Roman')\n",
            "(5, 'Echos de djibouti', 'Ahmed Abdourazak', 2018, 'Roman')\n"
          ]
        }
      ]
    },
    {
      "cell_type": "code",
      "source": [],
      "metadata": {
        "id": "fhRK1vS8Phrd"
      },
      "execution_count": null,
      "outputs": []
    },
    {
      "cell_type": "markdown",
      "source": [
        "**Trouver tous les livres publies apres annee 2000**"
      ],
      "metadata": {
        "id": "d1StWsFgWtwa"
      }
    },
    {
      "cell_type": "code",
      "source": [
        "\n",
        "curseur=con.cursor()\n",
        "curseur.execute('''SELECT * FROM Livres WHERE anneePublication>2000''')\n",
        "for ligne in curseur.fetchall():\n",
        "  print(ligne)"
      ],
      "metadata": {
        "id": "2eS_5GScW3GS",
        "colab": {
          "base_uri": "https://localhost:8080/"
        },
        "outputId": "410fbd66-392d-4efd-8053-a960ff79a219"
      },
      "execution_count": 7,
      "outputs": [
        {
          "output_type": "stream",
          "name": "stdout",
          "text": [
            "(1, 'enfants de balbala', 'Rachid Hachi', 2007, 'Roman')\n",
            "(3, 'Khalil', 'yasmina khadra', 2001, 'Roman')\n",
            "(5, 'Echos de djibouti', 'Ahmed Abdourazak', 2018, 'Roman')\n"
          ]
        }
      ]
    },
    {
      "cell_type": "markdown",
      "source": [
        "**Trouver tous les livres du genre Fiction**"
      ],
      "metadata": {
        "id": "NhTLKsaEXSxr"
      }
    },
    {
      "cell_type": "code",
      "source": [
        "\n",
        "curseur=con.cursor()\n",
        "curseur.execute('''SELECT * FROM Livres WHERE Genre=\"Fiction\"''')\n",
        "for ligne in curseur.fetchall():\n",
        "  print(ligne)"
      ],
      "metadata": {
        "id": "HoTtESowXeAe"
      },
      "execution_count": 8,
      "outputs": []
    },
    {
      "cell_type": "markdown",
      "source": [
        "**Manipulation des donnees**"
      ],
      "metadata": {
        "id": "Lx5kMzNRZ_mK"
      }
    },
    {
      "cell_type": "markdown",
      "source": [
        "**Mettre a jour anneePublication a l'anne en cour**"
      ],
      "metadata": {
        "id": "NSwR5p6vaFNn"
      }
    },
    {
      "cell_type": "markdown",
      "source": [
        "importation du bibliotheque datetime"
      ],
      "metadata": {
        "id": "BR6aYmeacKrT"
      }
    },
    {
      "cell_type": "code",
      "source": [
        "\n",
        "from datetime import datetime\n",
        "anneeencour=datetime.now().year\n",
        "curseur=con.cursor()\n",
        "curseur.execute('''UPDATE Livres SET anneePublication=? WHERE Genre=?''',(anneeencour,\"Roman\"))\n",
        "curseur=con.cursor()\n",
        "curseur.execute('''SELECT * FROM Livres''')\n",
        "for ligne in curseur.fetchall():\n",
        "  print(ligne)\n"
      ],
      "metadata": {
        "colab": {
          "base_uri": "https://localhost:8080/"
        },
        "id": "z0E-2GoqcS_f",
        "outputId": "94bc1226-fd67-49c5-87d5-2446c0fb77c2"
      },
      "execution_count": 10,
      "outputs": [
        {
          "output_type": "stream",
          "name": "stdout",
          "text": [
            "(1, 'enfants de balbala', 'Rachid Hachi', 2024, 'Roman')\n",
            "(2, 'Parure', 'Guy de maupassant', 1922, 'nouvelle')\n",
            "(3, 'Khalil', 'yasmina khadra', 2024, 'Roman')\n",
            "(4, 'Ayan Daran', 'Rachid Hachi', 2024, 'Roman')\n",
            "(5, 'Echos de djibouti', 'Ahmed Abdourazak', 2024, 'Roman')\n"
          ]
        }
      ]
    },
    {
      "cell_type": "markdown",
      "source": [
        "**Supprimer un livre**"
      ],
      "metadata": {
        "id": "qiHxOq3cjPdA"
      }
    },
    {
      "cell_type": "code",
      "source": [
        "curseur=con.cursor()\n",
        "curseur.execute('''DELETE FROM Livres WHERE Titre=?''',Titre=(\"enfants de balbala\"))\n",
        "\n",
        "con.close()"
      ],
      "metadata": {
        "colab": {
          "base_uri": "https://localhost:8080/",
          "height": 176
        },
        "collapsed": true,
        "id": "WOa9fxANjXAt",
        "outputId": "bdd68d0f-a7e0-4d6c-e662-d93fa7b825b7"
      },
      "execution_count": null,
      "outputs": [
        {
          "output_type": "error",
          "ename": "TypeError",
          "evalue": "Cursor.execute() takes no keyword arguments",
          "traceback": [
            "\u001b[0;31m---------------------------------------------------------------------------\u001b[0m",
            "\u001b[0;31mTypeError\u001b[0m                                 Traceback (most recent call last)",
            "\u001b[0;32m<ipython-input-36-a0cfced5b2c2>\u001b[0m in \u001b[0;36m<cell line: 2>\u001b[0;34m()\u001b[0m\n\u001b[1;32m      1\u001b[0m \u001b[0mcurseur\u001b[0m\u001b[0;34m=\u001b[0m\u001b[0mcon\u001b[0m\u001b[0;34m.\u001b[0m\u001b[0mcursor\u001b[0m\u001b[0;34m(\u001b[0m\u001b[0;34m)\u001b[0m\u001b[0;34m\u001b[0m\u001b[0;34m\u001b[0m\u001b[0m\n\u001b[0;32m----> 2\u001b[0;31m \u001b[0mcurseur\u001b[0m\u001b[0;34m.\u001b[0m\u001b[0mexecute\u001b[0m\u001b[0;34m(\u001b[0m\u001b[0;34m'''DELETE FROM Livres WHERE Titre=?'''\u001b[0m\u001b[0;34m,\u001b[0m\u001b[0mTitre\u001b[0m\u001b[0;34m=\u001b[0m\u001b[0;34m(\u001b[0m\u001b[0;34m\"enfants de balbala\"\u001b[0m\u001b[0;34m)\u001b[0m\u001b[0;34m)\u001b[0m\u001b[0;34m\u001b[0m\u001b[0;34m\u001b[0m\u001b[0m\n\u001b[0m\u001b[1;32m      3\u001b[0m \u001b[0mcon\u001b[0m\u001b[0;34m.\u001b[0m\u001b[0mcommit\u001b[0m\u001b[0;34m(\u001b[0m\u001b[0;34m)\u001b[0m\u001b[0;34m\u001b[0m\u001b[0;34m\u001b[0m\u001b[0m\n",
            "\u001b[0;31mTypeError\u001b[0m: Cursor.execute() takes no keyword arguments"
          ]
        }
      ]
    },
    {
      "cell_type": "code",
      "source": [
        "from google.colab import files\n",
        "\n",
        "# Télécharger le fichier .db\n",
        "files.download('personalLibrary.db')"
      ],
      "metadata": {
        "colab": {
          "base_uri": "https://localhost:8080/",
          "height": 17
        },
        "id": "Ydcf82-UmldQ",
        "outputId": "38a5a126-4c0d-4006-fa4d-8f4762301a55"
      },
      "execution_count": 12,
      "outputs": [
        {
          "output_type": "display_data",
          "data": {
            "text/plain": [
              "<IPython.core.display.Javascript object>"
            ],
            "application/javascript": [
              "\n",
              "    async function download(id, filename, size) {\n",
              "      if (!google.colab.kernel.accessAllowed) {\n",
              "        return;\n",
              "      }\n",
              "      const div = document.createElement('div');\n",
              "      const label = document.createElement('label');\n",
              "      label.textContent = `Downloading \"${filename}\": `;\n",
              "      div.appendChild(label);\n",
              "      const progress = document.createElement('progress');\n",
              "      progress.max = size;\n",
              "      div.appendChild(progress);\n",
              "      document.body.appendChild(div);\n",
              "\n",
              "      const buffers = [];\n",
              "      let downloaded = 0;\n",
              "\n",
              "      const channel = await google.colab.kernel.comms.open(id);\n",
              "      // Send a message to notify the kernel that we're ready.\n",
              "      channel.send({})\n",
              "\n",
              "      for await (const message of channel.messages) {\n",
              "        // Send a message to notify the kernel that we're ready.\n",
              "        channel.send({})\n",
              "        if (message.buffers) {\n",
              "          for (const buffer of message.buffers) {\n",
              "            buffers.push(buffer);\n",
              "            downloaded += buffer.byteLength;\n",
              "            progress.value = downloaded;\n",
              "          }\n",
              "        }\n",
              "      }\n",
              "      const blob = new Blob(buffers, {type: 'application/binary'});\n",
              "      const a = document.createElement('a');\n",
              "      a.href = window.URL.createObjectURL(blob);\n",
              "      a.download = filename;\n",
              "      div.appendChild(a);\n",
              "      a.click();\n",
              "      div.remove();\n",
              "    }\n",
              "  "
            ]
          },
          "metadata": {}
        },
        {
          "output_type": "display_data",
          "data": {
            "text/plain": [
              "<IPython.core.display.Javascript object>"
            ],
            "application/javascript": [
              "download(\"download_f1fcbed4-9181-4c20-80fe-997f4f43eeda\", \"personalLibrary.db\", 8192)"
            ]
          },
          "metadata": {}
        }
      ]
    }
  ]
}