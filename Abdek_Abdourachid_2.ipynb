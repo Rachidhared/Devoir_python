{
 "cells": [
  {
   "cell_type": "code",
   "execution_count": null,
   "id": "5a7cf664-948c-4b4d-a91b-66478f35ed77",
   "metadata": {},
   "outputs": [],
   "source": [
    "def calculer_imc(poids_kg, taille_m):\n",
    "    if taille_m == 0:\n",
    "        raise ValueError(\"La taille ne peut pas être zéro.\")\n",
    "    imc = poids_kg / (taille_m ** 2)\n",
    "    return round(imc, 2)\n",
    "\n",
    "def determiner_categorie(imc):\n",
    "    if imc < 18.5:\n",
    "        return \"Insuffisance pondérale\"\n",
    "    elif 18.5 <= imc < 25:\n",
    "        return \"Poids normal\"\n",
    "    elif 25 <= imc < 30:\n",
    "        return \"Surpoids\"\n",
    "    else:\n",
    "        return \"Obésité\"\n",
    "\n",
    "def programme_principal():\n",
    "    try:\n",
    "        poids_kg = float(input(\"Entrez votre poids en kilogrammes : \"))\n",
    "        taille_m = float(input(\"Entrez votre taille en mètres : \"))\n",
    "\n",
    "        imc = calculer_imc(poids_kg, taille_m)\n",
    "        categorie = determiner_categorie(imc)\n",
    "\n",
    "        print(f\"Votre IMC est : {imc}\")\n",
    "        print(f\"Catégorie de santé : {categorie}\")\n",
    "\n",
    "    except ValueError as e:\n",
    "        print(f\"Erreur : {e}\")\n",
    "\n",
    "if __name__ == \"__main__\":\n",
    "    programme_principal()\n"
   ]
  }
 ],
 "metadata": {
  "kernelspec": {
   "display_name": "Python 3 (ipykernel)",
   "language": "python",
   "name": "python3"
  },
  "language_info": {
   "codemirror_mode": {
    "name": "ipython",
    "version": 3
   },
   "file_extension": ".py",
   "mimetype": "text/x-python",
   "name": "python",
   "nbconvert_exporter": "python",
   "pygments_lexer": "ipython3",
   "version": "3.11.7"
  }
 },
 "nbformat": 4,
 "nbformat_minor": 5
}
