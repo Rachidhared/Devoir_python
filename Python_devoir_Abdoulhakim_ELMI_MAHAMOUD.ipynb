{
  "nbformat": 4,
  "nbformat_minor": 0,
  "metadata": {
    "colab": {
      "provenance": []
    },
    "kernelspec": {
      "name": "python3",
      "display_name": "Python 3"
    },
    "language_info": {
      "name": "python"
    }
  },
  "cells": [
    {
      "cell_type": "markdown",
      "source": [
        "### **Exercice 1 : Concevez Votre Propre Jeu de Chasse au Trésor**"
      ],
      "metadata": {
        "id": "9R-UM5n1o4Zz"
      }
    },
    {
      "cell_type": "markdown",
      "source": [
        "**Contexte**\n",
        "Vous avez pour mission de créer un jeu de société simple. Dans ce jeu, les joueurs sont des\n",
        "chasseurs de trésors et ils ont besoin d'un plateau pour visualiser où ils pourraient trouver des\n",
        "trésors cachés. Votre tâche est de créer ce plateau et de permettre aux joueurs de placer le trésor\n",
        "à l'endroit de leur choix."
      ],
      "metadata": {
        "id": "PSyDpCfypCDE"
      }
    },
    {
      "cell_type": "markdown",
      "source": [
        "**Création du Plateau **\n"
      ],
      "metadata": {
        "id": "_Hy0AdEMpRpO"
      }
    },
    {
      "cell_type": "code",
      "source": [
        "import random\n",
        "def creer_plateau(n, m):\n",
        "    \"\"\"Crée un plateau de jeu de taille n x m rempli d'astérisques.\"\"\"\n",
        "    plateau = [['*' for _ in range(m)] for _ in range(n)]\n",
        "    return plateau"
      ],
      "metadata": {
        "id": "5AHcwEKMpwOW"
      },
      "execution_count": null,
      "outputs": []
    },
    {
      "cell_type": "markdown",
      "source": [
        "**Placer Tresor**"
      ],
      "metadata": {
        "id": "8J2lELYEp12e"
      }
    },
    {
      "cell_type": "code",
      "source": [
        "def placer_tresor(plateau, n, m):\n",
        "    \"\"\"Demande à l'utilisateur de placer le trésor et met à jour le plateau.\"\"\"\n",
        "    while True:\n",
        "        try:\n",
        "            ligne = int(input(\"Entrez la ligne où placer le trésor (1 à {}) : \".format(n))) - 1\n",
        "            colonne = int(input(\"Entrez la colonne où placer le trésor (1 à {}) : \".format(m))) - 1\n",
        "            if 0 <= ligne < n and 0 <= colonne < m:\n",
        "                plateau[ligne][colonne] = 'T'\n",
        "                break\n",
        "            else:\n",
        "                print(\"Coordonnées invalides. Veuillez réessayer.\")\n",
        "        except ValueError:\n",
        "            print(\"Veuillez entrer des nombres entiers.\")"
      ],
      "metadata": {
        "id": "-LSWtVSep9_0"
      },
      "execution_count": null,
      "outputs": []
    },
    {
      "cell_type": "markdown",
      "source": [
        "**Placer Piege**"
      ],
      "metadata": {
        "id": "RcEXxHoLqC3x"
      }
    },
    {
      "cell_type": "code",
      "source": [
        "def placer_piege(plateau, n, m, ligne_tresor, colonne_tresor):\n",
        "    \"\"\"Place un piège aléatoirement sur le plateau, en évitant le trésor.\"\"\"\n",
        "    while True:\n",
        "        ligne_piege = random.randint(0, n-1)\n",
        "        colonne_piege = random.randint(0, m-1)\n",
        "        if (ligne_piege, colonne_piege) != (ligne_tresor, colonne_tresor):\n",
        "            plateau[ligne_piege][colonne_piege] = 'X'\n",
        "            break"
      ],
      "metadata": {
        "id": "4hjsMCjxqIfL"
      },
      "execution_count": null,
      "outputs": []
    },
    {
      "cell_type": "markdown",
      "source": [
        "**Afficher Plateau** Et **Deviner Tresor**"
      ],
      "metadata": {
        "id": "yf_6ncCDqRw_"
      }
    },
    {
      "cell_type": "code",
      "source": [
        "def afficher_plateau(plateau):\n",
        "    \"\"\"Affiche le plateau de jeu.\"\"\"\n",
        "    for ligne in plateau:\n",
        "        print(' '.join(ligne))\n",
        "\n",
        "def deviner_tresor(plateau, n, m, ligne_tresor, colonne_tresor):\n",
        "    \"\"\"Demande au joueur de deviner l'emplacement du trésor.\"\"\"\n",
        "    while True:\n",
        "        try:\n",
        "            ligne = int(input(\"Devinez la ligne du trésor : \")) - 1\n",
        "            colonne = int(input(\"Devinez la colonne du trésor : \")) - 1\n",
        "            if 0 <= ligne < n and 0 <= colonne < m:\n",
        "                if plateau[ligne][colonne] == 'T':\n",
        "                    print(\"Félicitations, vous avez trouvé le trésor !\")\n",
        "                    break\n",
        "                elif plateau[ligne][colonne] == 'X':\n",
        "                    print(\"Vous avez été piégé !\")\n",
        "                    break\n",
        "                else:\n",
        "                    print(\"Raté, essayez encore.\")\n",
        "            else:\n",
        "                print(\"Coordonnées invalides. Veuillez réessayer.\")\n",
        "        except ValueError:\n",
        "            print(\"Veuillez entrer des nombres entiers.\")\n",
        "\n",
        "if __name__ == \"__main__\":\n",
        "    n = int(input(\"Entrez le nombre de lignes : \"))\n",
        "    m = int(input(\"Entrez le nombre de colonnes : \"))\n",
        "\n",
        "    plateau = creer_plateau(n, m)\n",
        "    placer_tresor(plateau, n, m)\n",
        "\n",
        "    # Défi bonus : placer un piège\n",
        "    ligne_tresor = [ligne for ligne in range(n) for colonne in range(m) if plateau[ligne][colonne] == 'T'][0]\n",
        "    colonne_tresor = [colonne for ligne in range(n) for colonne in range(m) if plateau[ligne][colonne] == 'T'][0]\n",
        "    placer_piege(plateau, n, m, ligne_tresor, colonne_tresor)\n",
        "\n",
        "    afficher_plateau(plateau)\n",
        "    deviner_tresor(plateau, n, m, ligne_tresor, colonne_tresor)"
      ],
      "metadata": {
        "colab": {
          "base_uri": "https://localhost:8080/"
        },
        "id": "nkxkXX9rqdE9",
        "outputId": "93bae71c-131f-4d7a-ea62-ec4f0f34651e"
      },
      "execution_count": null,
      "outputs": [
        {
          "output_type": "stream",
          "name": "stdout",
          "text": [
            "Entrez le nombre de lignes : 4\n",
            "Entrez le nombre de colonnes : 5\n",
            "Entrez la ligne où placer le trésor (1 à 4) : 2\n",
            "Entrez la colonne où placer le trésor (1 à 5) : 3\n",
            "* * * * *\n",
            "* * T X *\n",
            "* * * * *\n",
            "* * * * *\n",
            "Devinez la ligne du trésor : 1\n",
            "Devinez la colonne du trésor : 2\n",
            "Raté, essayez encore.\n",
            "Devinez la ligne du trésor : 2\n",
            "Devinez la colonne du trésor : 3\n",
            "Félicitations, vous avez trouvé le trésor !\n"
          ]
        }
      ]
    },
    {
      "cell_type": "markdown",
      "source": [
        "## **Exercice 2 : Création d'un Calculateur d'IMC en Utilisant des Fonctions**"
      ],
      "metadata": {
        "id": "Kpoz1EPx62rI"
      }
    },
    {
      "cell_type": "markdown",
      "source": [
        "***Objectif*** :\n",
        "**Pour tester votre compréhension des fonctions en Python, vous devez construire un calculateur\n",
        "d'IMC (Indice de Masse Corporelle).**"
      ],
      "metadata": {
        "id": "xTthFtny69x_"
      }
    },
    {
      "cell_type": "markdown",
      "source": [
        "**Nom de la Fonction : Votre fonction doit s'appeler calculate_bmi.**"
      ],
      "metadata": {
        "id": "LhNUAvb27FKq"
      }
    },
    {
      "cell_type": "code",
      "source": [
        "def calculate_bmi(poids, taille):\n",
        "    # Calcul de l'IMC\n",
        "    imc = poids / (taille ** 2)\n",
        "    # Retourner l'IMC arrondi à deux décimales\n",
        "    return round(imc, 2)"
      ],
      "metadata": {
        "id": "RiEe2Mpo7FqY"
      },
      "execution_count": 20,
      "outputs": []
    },
    {
      "cell_type": "markdown",
      "source": [
        "**Entrée de l'Utilisateur : Après avoir défini la fonction, demandez à l'utilisateur de\n",
        "saisir son poids et sa taille.**"
      ],
      "metadata": {
        "id": "B625DLZ27JhP"
      }
    },
    {
      "cell_type": "code",
      "source": [
        "# Demander à l'utilisateur s'il souhaite entrer les valeurs en unités métriques ou impériales\n",
        "unite = input(\"Souhaitez-vous entrer le poids et la taille en unités métriques (kg, m) ou impériales (lbs, pouces) ? (m/i) : \").strip().lower()\n",
        "\n",
        "if unite == 'm':\n",
        "    # Entrée en unités métriques\n",
        "    poids = float(input(\"Entrez votre poids en kilogrammes (kg) : \"))\n",
        "    taille = float(input(\"Entrez votre taille en mètres (m) : \"))\n",
        "elif unite == 'i':\n",
        "    # Entrée en unités impériales\n",
        "    poids_lbs = float(input(\"Entrez votre poids en livres (lbs) : \"))\n",
        "    taille_pouces = float(input(\"Entrez votre taille en pouces (in) : \"))\n",
        "    # Conversion des unités impériales en unités métriques\n",
        "    poids = poids_lbs / 2.20462\n",
        "    taille = taille_pouces / 39.3701\n",
        "else:\n",
        "    print(\"Unité non reconnue. Utilisation des unités métriques par défaut.\")\n",
        "    poids = float(input(\"Entrez votre poids en kilogrammes (kg) : \"))\n",
        "    taille = float(input(\"Entrez votre taille en mètres (m) : \"))"
      ],
      "metadata": {
        "colab": {
          "base_uri": "https://localhost:8080/"
        },
        "id": "GddAn38-7MWo",
        "outputId": "e56ca645-e695-477d-96d3-c344d13041e4"
      },
      "execution_count": 24,
      "outputs": [
        {
          "name": "stdout",
          "output_type": "stream",
          "text": [
            "Souhaitez-vous entrer le poids et la taille en unités métriques (kg, m) ou impériales (lbs, pouces) ? (m/i) : i\n",
            "Entrez votre poids en livres (lbs) : 154\n",
            "Entrez votre taille en pouces (in) : 70\n"
          ]
        }
      ]
    },
    {
      "cell_type": "markdown",
      "source": [
        "**Sortie : Affichez l'IMC calculé à l'utilisateur ainsi qu'une catégorie de santé : Les\n",
        "catégories d'IMC sont les suivantes :**"
      ],
      "metadata": {
        "id": "EOAks9Hh7P8v"
      }
    },
    {
      "cell_type": "code",
      "source": [
        "# Calcul de l'IMC\n",
        "imc = calculate_bmi(poids, taille)\n",
        "\n",
        "# Détermination de la catégorie de santé\n",
        "if imc < 18.5:\n",
        "    categorie = \"Insuffisance pondérale\"\n",
        "elif 18.5 <= imc < 25:\n",
        "    categorie = \"Poids normal\"\n",
        "elif 25 <= imc < 30:\n",
        "    categorie = \"Surpoids\"\n",
        "else:\n",
        "    categorie = \"Obésité\""
      ],
      "metadata": {
        "id": "0ZzkiswI7Tom"
      },
      "execution_count": 25,
      "outputs": []
    },
    {
      "cell_type": "markdown",
      "source": [
        "**Affichage des résultats**"
      ],
      "metadata": {
        "id": "03q5pIYK7Xdz"
      }
    },
    {
      "cell_type": "code",
      "source": [
        "# Affichage des résultats\n",
        "print(f\"Votre IMC est de {imc}. Vous êtes dans la catégorie : {categorie}.\")"
      ],
      "metadata": {
        "colab": {
          "base_uri": "https://localhost:8080/"
        },
        "id": "fWJGVDUJ7avC",
        "outputId": "875ae715-599b-4763-d5b8-23a222124375"
      },
      "execution_count": 26,
      "outputs": [
        {
          "output_type": "stream",
          "name": "stdout",
          "text": [
            "Votre IMC est de 22.1. Vous êtes dans la catégorie : Poids normal.\n"
          ]
        }
      ]
    },
    {
      "cell_type": "markdown",
      "source": [
        "# Exercice 3 : Vérificateur de palindrome\n"
      ],
      "metadata": {
        "id": "ERd2rkoo7maV"
      }
    },
    {
      "cell_type": "markdown",
      "source": [
        "**Objectif :\n",
        "Écrire un programme pour déterminer si un mot ou une phrase donnée(e) est un palindrome.\n",
        "Un palindrome est un mot, une phrase, un nombre ou d'autres séquences de caractères qui se lit\n",
        "de la même manière de gauche à droite et de droite à gauche (en ignorant les espaces, la\n",
        "ponctuation et la casse).**"
      ],
      "metadata": {
        "id": "qi_SHapZ70qe"
      }
    },
    {
      "cell_type": "code",
      "source": [
        "import string\n",
        "\n",
        "def clean_string(input_string: str) -> str:\n",
        "    # Garder seulement les caractères alphanumériques et convertir en minuscules\n",
        "    cleaned = ''.join(char.lower() for char in input_string if char.isalnum())\n",
        "    return cleaned\n",
        "\n"
      ],
      "metadata": {
        "id": "gEFkbDK972Yq"
      },
      "execution_count": 13,
      "outputs": []
    },
    {
      "cell_type": "markdown",
      "source": [
        "**is_palindrome_while(input_string: str) -> bool : Cette fonction devrait utiliser une\n",
        "boucle while pour vérifier si la chaîne d'entrée est un palindrome.**"
      ],
      "metadata": {
        "id": "jd_MbcFtC-na"
      }
    },
    {
      "cell_type": "code",
      "source": [
        "def is_palindrome_while(input_string: str) -> bool:\n",
        "    cleaned_string = clean_string(input_string)\n",
        "    left, right = 0, len(cleaned_string) - 1\n",
        "\n",
        "    while left < right:\n",
        "        if cleaned_string[left] != cleaned_string[right]:\n",
        "            return False\n",
        "        left += 1\n",
        "        right -= 1\n",
        "\n",
        "    return True"
      ],
      "metadata": {
        "id": "56c0m-NHDDr8"
      },
      "execution_count": 14,
      "outputs": []
    },
    {
      "cell_type": "markdown",
      "source": [
        "**is_palindrome_for(input_string: str) -> bool : Cette fonction devrait utiliser une\n",
        "boucle for pour vérifier si la chaîne d'entrée est un palindrome.**"
      ],
      "metadata": {
        "id": "23Qtdu9lDKu9"
      }
    },
    {
      "cell_type": "code",
      "source": [
        "def is_palindrome_for(input_string: str) -> bool:\n",
        "    cleaned_string = clean_string(input_string)\n",
        "    length = len(cleaned_string)\n",
        "\n",
        "    for i in range(length // 2):\n",
        "        if cleaned_string[i] != cleaned_string[length - 1 - i]:\n",
        "            return False\n",
        "\n",
        "    return True"
      ],
      "metadata": {
        "id": "4ctWsXFXDOuV"
      },
      "execution_count": 15,
      "outputs": []
    },
    {
      "cell_type": "markdown",
      "source": [
        "**Exemples de tests**"
      ],
      "metadata": {
        "id": "5HBs0VMSDR6_"
      }
    },
    {
      "cell_type": "code",
      "source": [
        "# Exemples de tests\n",
        "test_phrases = [\n",
        "    \"A man, a plan, a canal, Panama\",\n",
        "    \"No lemon, no melon\",\n",
        "    \"Hello, World!\",\n",
        "    \"Able was I ere I saw Elba\"\n",
        "]"
      ],
      "metadata": {
        "id": "YlWs6VPIDY_C"
      },
      "execution_count": 18,
      "outputs": []
    },
    {
      "cell_type": "markdown",
      "source": [
        "\n",
        "**Affichage**"
      ],
      "metadata": {
        "id": "K4rR-FebDcTX"
      }
    },
    {
      "cell_type": "code",
      "source": [
        "print(\"Using while loop:\")\n",
        "for phrase in test_phrases:\n",
        "    print(f\"'{phrase}' -> {is_palindrome_while(phrase)}\")\n",
        "\n",
        "print(\"\\nUsing for loop:\")\n",
        "for phrase in test_phrases:\n",
        "    print(f\"'{phrase}' -> {is_palindrome_for(phrase)}\")"
      ],
      "metadata": {
        "colab": {
          "base_uri": "https://localhost:8080/"
        },
        "id": "jqFf7JIPDiUF",
        "outputId": "df294233-c262-438e-c261-a5c9a8ec87a1"
      },
      "execution_count": 19,
      "outputs": [
        {
          "output_type": "stream",
          "name": "stdout",
          "text": [
            "Using while loop:\n",
            "'A man, a plan, a canal, Panama' -> True\n",
            "'No lemon, no melon' -> True\n",
            "'Hello, World!' -> False\n",
            "'Able was I ere I saw Elba' -> True\n",
            "\n",
            "Using for loop:\n",
            "'A man, a plan, a canal, Panama' -> True\n",
            "'No lemon, no melon' -> True\n",
            "'Hello, World!' -> False\n",
            "'Able was I ere I saw Elba' -> True\n"
          ]
        }
      ]
    }
  ]
}